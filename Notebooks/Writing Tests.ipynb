{
 "cells": [
  {
   "cell_type": "markdown",
   "id": "6a3ab80d-f17c-41b0-a569-61ab90f7ee46",
   "metadata": {},
   "source": [
    "## Writing Tests"
   ]
  },
  {
   "cell_type": "code",
   "execution_count": 2,
   "id": "a0d82120-c176-419e-ad89-632881cf6a86",
   "metadata": {
    "tags": []
   },
   "outputs": [],
   "source": [
    "__all__ = []\n",
    "\n",
    "from warnings import warn\n",
    "import scipy.integrate as sp\n",
    "from typing import Tuple\n",
    "import numpy as np\n",
    "\n",
    "\n",
    "import astropy.units as u\n",
    "from plasmapy.utils.decorators import validate_quantities\n",
    "from typing import Tuple"
   ]
  },
  {
   "cell_type": "code",
   "execution_count": 41,
   "id": "0488e712-2afc-42d0-a866-de723edee1a6",
   "metadata": {
    "tags": []
   },
   "outputs": [],
   "source": [
    "@validate_quantities\n",
    "def hooks_force(displacement: u.Quantity[u.m], spring_constant: u.Quantity[u.N/u.m]) -> u.Quantity[u.N]:\n",
    "    return -displacement*spring_constant"
   ]
  },
  {
   "cell_type": "code",
   "execution_count": 17,
   "id": "c2ef8dbe-3367-46ac-9618-8310d466ecdd",
   "metadata": {
    "tags": []
   },
   "outputs": [],
   "source": [
    "displacment=0.2*u.m"
   ]
  },
  {
   "cell_type": "code",
   "execution_count": 19,
   "id": "bf35f4dc-610d-471c-a014-85cd2e8857f3",
   "metadata": {
    "tags": []
   },
   "outputs": [],
   "source": [
    "spring_constant=100*u.N/u.m"
   ]
  },
  {
   "cell_type": "code",
   "execution_count": 21,
   "id": "7e48a7b7-50af-4cd1-a2ac-3791295372c1",
   "metadata": {
    "tags": []
   },
   "outputs": [
    {
     "data": {
      "text/latex": [
       "$-20 \\; \\mathrm{N}$"
      ],
      "text/plain": [
       "<Quantity -20. N>"
      ]
     },
     "execution_count": 21,
     "metadata": {},
     "output_type": "execute_result"
    }
   ],
   "source": [
    "hooks_force(displacment,spring_constant)"
   ]
  },
  {
   "cell_type": "code",
   "execution_count": 23,
   "id": "1220552b-7735-4028-ac50-f074c3d21d3c",
   "metadata": {
    "tags": []
   },
   "outputs": [],
   "source": [
    "import pytest"
   ]
  },
  {
   "cell_type": "code",
   "execution_count": 55,
   "id": "0930cac9-34fe-47dd-9ae2-ff2590f117ad",
   "metadata": {
    "tags": []
   },
   "outputs": [],
   "source": [
    "@pytest.mark.parametrize(\n",
    "        (\"args\", \"expected\"),\n",
    "        [((0.2*u.m,100*u.N/u.m),-20*u.N),\n",
    "         ((0.1*u.m,100*u.N/u.m),-10*u.N)])\n",
    "def test_hooks_force(args,expected) -> None:\n",
    "    assert np.isclose(hooks_force(*args),expected)"
   ]
  },
  {
   "cell_type": "code",
   "execution_count": 59,
   "id": "ddb3a10f-bd5f-45e3-a770-0ee1958bfb9b",
   "metadata": {
    "tags": []
   },
   "outputs": [
    {
     "data": {
      "text/plain": [
       "<module 'pytest' from 'C:\\\\ProgramData\\\\anaconda3\\\\Lib\\\\site-packages\\\\pytest\\\\__init__.py'>"
      ]
     },
     "execution_count": 59,
     "metadata": {},
     "output_type": "execute_result"
    }
   ],
   "source": [
    "pytest"
   ]
  },
  {
   "cell_type": "code",
   "execution_count": null,
   "id": "48ea7159-c113-4b99-af49-e12433192a5b",
   "metadata": {},
   "outputs": [],
   "source": []
  }
 ],
 "metadata": {
  "kernelspec": {
   "display_name": "Python 3 (ipykernel)",
   "language": "python",
   "name": "python3"
  },
  "language_info": {
   "codemirror_mode": {
    "name": "ipython",
    "version": 3
   },
   "file_extension": ".py",
   "mimetype": "text/x-python",
   "name": "python",
   "nbconvert_exporter": "python",
   "pygments_lexer": "ipython3",
   "version": "3.12.3"
  }
 },
 "nbformat": 4,
 "nbformat_minor": 5
}
