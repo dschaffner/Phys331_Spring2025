{
 "cells": [
  {
   "cell_type": "markdown",
   "id": "bf9e8dcb-6cf5-4c4e-a958-11b4314d81bb",
   "metadata": {},
   "source": [
    "# Logistic Map Example"
   ]
  },
  {
   "cell_type": "markdown",
   "id": "14f4ddef-40c8-48e4-aca2-d7a84fba3125",
   "metadata": {},
   "source": [
    "The Logistic Map is represented by the following recursion relation:\n",
    "\n",
    "$x_{n+1} = Ax_{n}(1-x_{n})$\n",
    "\n",
    "That is, given an initial value $x_{n}$, and a fixed parameter, $A$, the next value in the sequence, $x_{n+1}$, is determined. Then, the value of $x_{n+1}$ becomes the next $x_{n}$ value and the result is computed again. Depending on the value of the parameter, A, and the initial value, $x_{0}$, the resulting sequence can exhibit different behaviors"
   ]
  },
  {
   "cell_type": "code",
   "execution_count": null,
   "id": "bf360c7c-8895-4a20-ab0e-a52b9d3584de",
   "metadata": {
    "tags": []
   },
   "outputs": [],
   "source": [
    "import matplotlib.pylab as plt\n",
    "import numpy as np\n",
    "\n",
    "iterations = 50 #number of iterations the sequence will be computed\n",
    "lm = np.zeros(iterations+1) #storage array for sequence values"
   ]
  },
  {
   "cell_type": "code",
   "execution_count": null,
   "id": "7e22c768-3385-4a2a-9695-3b36a761bd78",
   "metadata": {
    "tags": []
   },
   "outputs": [],
   "source": [
    "#Define the value of A (between 0 and 4)\n",
    "A = 3.7\n",
    "#Define the initial value of the sequence\n",
    "lm[0] = 0.3\n",
    "\n",
    "#compute logistic map sequence\n",
    "for i in np.arange(iterations):\n",
    "    lm[i+1] = A * lm[i] * (1-lm[i])\n",
    "    \n",
    "plt.plot(np.arange(iterations+1),lm)"
   ]
  },
  {
   "cell_type": "markdown",
   "id": "1fb093e3-f004-45ac-badc-494bf6de19cb",
   "metadata": {},
   "source": [
    "The logistic map can be used to show how slight differences in initial condition can result in large differences in sequence. Let's define two sequences, lm1 and lm2, and set them to slightly different initial values. How small a diffence between `lm1[0]` and `lm2[0]` can you make so that the resulting sequences diverge? A difference of 0.1? 0.001? 0.00000001? Increase the iteration value if need be."
   ]
  },
  {
   "cell_type": "code",
   "execution_count": null,
   "id": "9c14f9a7-63a8-41e0-b514-48ec48047b2a",
   "metadata": {
    "tags": []
   },
   "outputs": [],
   "source": [
    "iterations = 100 #number of iterations the sequence will be computed\n",
    "lm1 = np.zeros(iterations+1) #storage array for sequence values\n",
    "lm2 = np.zeros(iterations+1) #storage array for sequence values"
   ]
  },
  {
   "cell_type": "code",
   "execution_count": null,
   "id": "f1dcea4e-89da-4a46-acea-36c14e509255",
   "metadata": {
    "tags": []
   },
   "outputs": [],
   "source": [
    "A = 3.7 #keep this value of A fixed\n",
    "#Define the initial value of the sequence\n",
    "lm1[0] = 0.3\n",
    "lm2[0] = 0.31\n",
    "\n",
    "#compute logistic map sequence\n",
    "for i in np.arange(iterations):\n",
    "    lm1[i+1] = A * lm1[i] * (1-lm1[i])\n",
    "    lm2[i+1] = A * lm2[i] * (1-lm2[i])\n",
    "    \n",
    "plt.plot(np.arange(iterations+1),lm1)\n",
    "plt.plot(np.arange(iterations+1),lm2)"
   ]
  },
  {
   "cell_type": "code",
   "execution_count": null,
   "id": "606e3a26-5fe7-44f2-b7f4-cbe55ab12829",
   "metadata": {},
   "outputs": [],
   "source": []
  }
 ],
 "metadata": {
  "kernelspec": {
   "display_name": "Python 3 (ipykernel)",
   "language": "python",
   "name": "python3"
  },
  "language_info": {
   "codemirror_mode": {
    "name": "ipython",
    "version": 3
   },
   "file_extension": ".py",
   "mimetype": "text/x-python",
   "name": "python",
   "nbconvert_exporter": "python",
   "pygments_lexer": "ipython3",
   "version": "3.11.4"
  }
 },
 "nbformat": 4,
 "nbformat_minor": 5
}
