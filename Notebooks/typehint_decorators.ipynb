{
 "cells": [
  {
   "cell_type": "markdown",
   "id": "04bf2ba1-c580-4ca5-b410-530ad3b4e31a",
   "metadata": {},
   "source": [
    "## Type Hint Annotations and Decorators"
   ]
  },
  {
   "cell_type": "code",
   "execution_count": 316,
   "id": "fa326226",
   "metadata": {},
   "outputs": [],
   "source": [
    "import sys\n",
    "import astropy.units as u\n",
    "import numpy as np\n",
    "from plasmapy.particles import *\n",
    "from plasmapy.particles.particle_class import valid_categories\n",
    "from plasmapy.formulary import *\n",
    "from plasmapy.utils.decorators import validate_quantities"
   ]
  },
  {
   "cell_type": "markdown",
   "id": "44e501d8-3065-4dea-a673-7b953725902d",
   "metadata": {},
   "source": [
    "### Type hint annotations"
   ]
  },
  {
   "cell_type": "markdown",
   "id": "41d0e999-a6d5-474c-a5b2-cbff44e00f44",
   "metadata": {},
   "source": [
    "[_dynamically typed language_]: https://en.wikipedia.org/wiki/Dynamic_programming_language\n",
    "[Type hint annotations]: https://mypy.readthedocs.io/en/stable/cheat_sheet_py3.html\n",
    "\n",
    "In a _statically typed language_, variable types are explicitly declared. If `s` is declared to be a string, then `s` will always be a string. Type errors are found when code is _compiled_.\n",
    "\n",
    "Python is a [_dynamically typed language_]. Variable types are determined at runtime rather than at compile time, and it's possible for variables to even change types!  \n",
    "\n",
    "There are tradeoffs! ⚖️ Dynamically are _more flexible_, but at the cost of _reduced type safety_.\n",
    "\n",
    "[Type hint annotations] provide a middle ground between statically vs. dynamically typed languages. \n",
    "\n",
    "🏷 Let's define a variable called `name` and provide it with a type hint annotation that says the variable should be a a `str`."
   ]
  },
  {
   "cell_type": "code",
   "execution_count": 319,
   "id": "cd171e0c-7233-479d-9e3d-18d5b71e7c3e",
   "metadata": {},
   "outputs": [],
   "source": [
    "name: str = \"Physics331\""
   ]
  },
  {
   "cell_type": "markdown",
   "id": "681d8f87-abdf-4a78-b4a8-619f0ed95d9b",
   "metadata": {},
   "source": [
    "The type hint of `str` in the above cell didn't actually do anything when we ran it. But when we read the code, it does tell us what type to expect `name` to be.\n",
    "\n",
    "How about a `list` that starts empty but will eventually contain names?  "
   ]
  },
  {
   "cell_type": "code",
   "execution_count": 321,
   "id": "8733b1c7-1d85-463a-9d63-718379032fb0",
   "metadata": {},
   "outputs": [],
   "source": [
    "names: list[str] = []"
   ]
  },
  {
   "cell_type": "markdown",
   "id": "d8597c81-8e6e-49b3-9b6e-bbfe86f88c8a",
   "metadata": {},
   "source": [
    "This type hint still doesn't do anything at runtime, but it helps us read the code, and lets us use code quality tools that can help us find errors.\n",
    "\n",
    "We can specify that a variable should be one of multiple types with `|`:"
   ]
  },
  {
   "cell_type": "code",
   "execution_count": 323,
   "id": "24b7a377-0370-48ba-a3f6-a64181508a11",
   "metadata": {},
   "outputs": [],
   "source": [
    "identifier: str | int"
   ]
  },
  {
   "cell_type": "markdown",
   "id": "d5c8ac47-fcd1-4968-a14a-df7459a5538f",
   "metadata": {},
   "source": [
    "Type hints are particularly helpful when defining functions:"
   ]
  },
  {
   "cell_type": "code",
   "execution_count": 329,
   "id": "1c74d5de-3a75-4ea8-bac9-ac5dcb94f9e6",
   "metadata": {},
   "outputs": [],
   "source": [
    "def stringify(number: int) -> str:\n",
    "    return str(number)"
   ]
  },
  {
   "cell_type": "code",
   "execution_count": 331,
   "id": "64e319b6-3e32-4934-a215-2a994825da64",
   "metadata": {
    "tags": []
   },
   "outputs": [
    {
     "data": {
      "text/plain": [
       "'12'"
      ]
     },
     "execution_count": 331,
     "metadata": {},
     "output_type": "execute_result"
    }
   ],
   "source": [
    "stringify(12)"
   ]
  },
  {
   "cell_type": "markdown",
   "id": "830261bc-0cb7-405f-91fa-9125f8cc7bec",
   "metadata": {},
   "source": [
    "[static type checking]: https://mypy.readthedocs.io/en/stable/getting_started.html#dynamic-vs-static-typing\n",
    "[mypy]: https://mypy.readthedocs.io/en/stable/\n",
    "\n",
    "Many Python packages, including PlasmaPy, make use of [static type checking] tools like [mypy].  These tools can help us find type errors such as in the following function before we even run the code:"
   ]
  },
  {
   "cell_type": "code",
   "execution_count": 333,
   "id": "9190e68f-88d0-4746-93e0-5527f7ea014f",
   "metadata": {},
   "outputs": [],
   "source": [
    "def return_argument(x: int) -> str:\n",
    "    return x"
   ]
  },
  {
   "cell_type": "markdown",
   "id": "ac74f48b-a3cd-4f1d-9909-9c71faf5804a",
   "metadata": {},
   "source": [
    "What if we want to specify that a function accepts a length and returns a volume?"
   ]
  },
  {
   "cell_type": "code",
   "execution_count": 335,
   "id": "3607d300-7ede-4a6c-a4bd-464877c2ea6a",
   "metadata": {},
   "outputs": [],
   "source": [
    "def volume(d: u.Quantity[u.m]) -> u.Quantity[u.m**3]:\n",
    "    return d**3"
   ]
  },
  {
   "cell_type": "code",
   "execution_count": 337,
   "id": "2f41a076-4d9b-4283-a9cf-12bdba9c8ef0",
   "metadata": {
    "tags": []
   },
   "outputs": [
    {
     "data": {
      "text/latex": [
       "$8000 \\; \\mathrm{m^{3}}$"
      ],
      "text/plain": [
       "<Quantity 8000. m3>"
      ]
     },
     "execution_count": 337,
     "metadata": {},
     "output_type": "execute_result"
    }
   ],
   "source": [
    "volume(20*u.m)"
   ]
  },
  {
   "cell_type": "code",
   "execution_count": 339,
   "id": "85f721db-964a-486a-ae0c-9aecc1973494",
   "metadata": {
    "tags": []
   },
   "outputs": [
    {
     "data": {
      "text/latex": [
       "$8000 \\; \\mathrm{kg^{3}}$"
      ],
      "text/plain": [
       "<Quantity 8000. kg3>"
      ]
     },
     "execution_count": 339,
     "metadata": {},
     "output_type": "execute_result"
    }
   ],
   "source": [
    "volume(20*u.kg)"
   ]
  },
  {
   "cell_type": "code",
   "execution_count": 341,
   "id": "87834b2b-1f09-4eae-991e-6df912b08c19",
   "metadata": {
    "tags": []
   },
   "outputs": [
    {
     "data": {
      "text/plain": [
       "32.76800000000001"
      ]
     },
     "execution_count": 341,
     "metadata": {},
     "output_type": "execute_result"
    }
   ],
   "source": [
    "volume(3.2)"
   ]
  },
  {
   "cell_type": "markdown",
   "id": "28fa6bed-52ad-4a2c-b51c-32e2ba7e5c49",
   "metadata": {},
   "source": [
    "### Decorators"
   ]
  },
  {
   "cell_type": "markdown",
   "id": "ce91e852-6f12-434d-943b-5ca64225b550",
   "metadata": {},
   "source": [
    "In Python, functions are objects. This means that we can write a function that returns another function."
   ]
  },
  {
   "cell_type": "code",
   "execution_count": 343,
   "id": "e8d7e33f-9dd8-4351-a498-cd4ced4ce68c",
   "metadata": {},
   "outputs": [],
   "source": [
    "def return_function():\n",
    "\n",
    "    print(\"Defining inner_function...\")\n",
    "    \n",
    "    def inner_function(): \n",
    "        print(\"Calling inner_function!\")\n",
    "    \n",
    "    return inner_function"
   ]
  },
  {
   "cell_type": "code",
   "execution_count": 345,
   "id": "ef09dad1-3d99-4d36-ae81-795433d25711",
   "metadata": {},
   "outputs": [
    {
     "name": "stdout",
     "output_type": "stream",
     "text": [
      "Defining inner_function...\n"
     ]
    }
   ],
   "source": [
    "function = return_function()"
   ]
  },
  {
   "cell_type": "code",
   "execution_count": 359,
   "id": "ac56c46b-06d5-4296-b9c6-40697f25be11",
   "metadata": {},
   "outputs": [
    {
     "name": "stdout",
     "output_type": "stream",
     "text": [
      "Calling inner_function!\n"
     ]
    }
   ],
   "source": [
    "function()"
   ]
  },
  {
   "cell_type": "code",
   "execution_count": 349,
   "id": "0ad8e6a0-b01b-4eaa-ab31-3541829bf682",
   "metadata": {
    "tags": []
   },
   "outputs": [
    {
     "name": "stdout",
     "output_type": "stream",
     "text": [
      "Defining inner_function...\n"
     ]
    },
    {
     "data": {
      "text/plain": [
       "<function __main__.return_function.<locals>.inner_function()>"
      ]
     },
     "execution_count": 349,
     "metadata": {},
     "output_type": "execute_result"
    }
   ],
   "source": [
    "return_function()"
   ]
  },
  {
   "cell_type": "code",
   "execution_count": 351,
   "id": "7cad8a72-4ea3-463e-9aae-1833ed675921",
   "metadata": {
    "tags": []
   },
   "outputs": [],
   "source": [
    "def display_number():\n",
    "    print(\"2\")\n",
    "    return 2"
   ]
  },
  {
   "cell_type": "code",
   "execution_count": 353,
   "id": "23f61c2b-7b32-4e26-a00e-99e6371a3c29",
   "metadata": {
    "tags": []
   },
   "outputs": [
    {
     "name": "stdout",
     "output_type": "stream",
     "text": [
      "2\n"
     ]
    }
   ],
   "source": [
    "x = display_number()"
   ]
  },
  {
   "cell_type": "code",
   "execution_count": 357,
   "id": "4a124e83-781a-455d-8914-a0b74b60cf84",
   "metadata": {
    "tags": []
   },
   "outputs": [
    {
     "name": "stdout",
     "output_type": "stream",
     "text": [
      "2\n"
     ]
    },
    {
     "data": {
      "text/plain": [
       "2"
      ]
     },
     "execution_count": 357,
     "metadata": {},
     "output_type": "execute_result"
    }
   ],
   "source": [
    "display_number()"
   ]
  },
  {
   "cell_type": "markdown",
   "id": "03d3bae8-e510-4bcf-a01d-4d998e0b24a5",
   "metadata": {},
   "source": [
    "Or we can pass a function as an argument to another function!  We can use `typing.Callable` as the corresponding type hint annotation."
   ]
  },
  {
   "cell_type": "code",
   "execution_count": 361,
   "id": "27d99306-584e-4d1d-a913-0ead6c9b982f",
   "metadata": {},
   "outputs": [],
   "source": [
    "from typing import Callable"
   ]
  },
  {
   "cell_type": "code",
   "execution_count": 363,
   "id": "db188ae4-5ff7-48ff-b335-6d0bbfbe8b2f",
   "metadata": {},
   "outputs": [],
   "source": [
    "def apply_function(function: Callable, array):\n",
    "    return function(array)"
   ]
  },
  {
   "cell_type": "code",
   "execution_count": 365,
   "id": "3cc6dc5c-37f8-45a4-813c-5576b2e326f7",
   "metadata": {},
   "outputs": [],
   "source": [
    "array = [1, 2, 3, 4, 5]"
   ]
  },
  {
   "cell_type": "code",
   "execution_count": 367,
   "id": "2137ef7e-f0ac-4c7a-8a8b-596c98e2402d",
   "metadata": {},
   "outputs": [
    {
     "data": {
      "text/plain": [
       "5"
      ]
     },
     "execution_count": 367,
     "metadata": {},
     "output_type": "execute_result"
    }
   ],
   "source": [
    "apply_function(max, array)"
   ]
  },
  {
   "cell_type": "code",
   "execution_count": 375,
   "id": "0cc885fb-d04d-4ce5-ba09-cd34a7c8a52c",
   "metadata": {
    "tags": []
   },
   "outputs": [
    {
     "data": {
      "text/plain": [
       "3.0"
      ]
     },
     "execution_count": 375,
     "metadata": {},
     "output_type": "execute_result"
    }
   ],
   "source": [
    "apply_function(np.mean,array)"
   ]
  },
  {
   "cell_type": "markdown",
   "id": "bf4b7d59-1f13-42e6-87df-b3a31d635b4f",
   "metadata": {},
   "source": [
    "[**decorator**]: https://www.geeksforgeeks.org/decorators-in-python/\n",
    "\n",
    "A function that _modifies another function_ is a [**decorator**]. \n",
    "\n",
    "Decorators in Python are a way to modify or enhance functions without changing their actual code. They wrap another function, potentially adding extra functionality before and after the original function runs."
   ]
  },
  {
   "cell_type": "code",
   "execution_count": 395,
   "id": "5095d1d9-a6de-401d-994c-83ffd16271c1",
   "metadata": {},
   "outputs": [],
   "source": [
    "def decorator(function: Callable):\n",
    "    print(\"hello\")\n",
    "    def decorated_function() -> None:\n",
    "\n",
    "        print(\"Before calling the function.\")\n",
    "        result = function()\n",
    "        print(\"After calling the function.\")\n",
    "\n",
    "        return result\n",
    "\n",
    "    return decorated_function"
   ]
  },
  {
   "cell_type": "code",
   "execution_count": 393,
   "id": "537d6027-fefc-4117-8c37-44555d38c49c",
   "metadata": {},
   "outputs": [],
   "source": [
    "def example_function():\n",
    "    print(\"Inside original example_function!\")\n",
    "    return 3"
   ]
  },
  {
   "cell_type": "markdown",
   "id": "d2aa4361-997e-49e7-bddc-87705ba858b6",
   "metadata": {},
   "source": [
    "Let's try it out!"
   ]
  },
  {
   "cell_type": "code",
   "execution_count": 397,
   "id": "a5c89a55-260b-46de-bb30-6023e3f90c2c",
   "metadata": {},
   "outputs": [
    {
     "name": "stdout",
     "output_type": "stream",
     "text": [
      "hello\n"
     ]
    }
   ],
   "source": [
    "modified_function = decorator(example_function)"
   ]
  },
  {
   "cell_type": "code",
   "execution_count": null,
   "id": "d15b8474-7cc1-4e0f-83cc-2f56d2c387ec",
   "metadata": {},
   "outputs": [],
   "source": [
    "example_function()"
   ]
  },
  {
   "cell_type": "code",
   "execution_count": 399,
   "id": "43202cd6-23ef-4ec5-be7f-abbbebbe7c72",
   "metadata": {
    "tags": []
   },
   "outputs": [
    {
     "name": "stdout",
     "output_type": "stream",
     "text": [
      "Before calling the function.\n",
      "Inside original example_function!\n",
      "After calling the function.\n"
     ]
    },
    {
     "data": {
      "text/plain": [
       "3"
      ]
     },
     "execution_count": 399,
     "metadata": {},
     "output_type": "execute_result"
    }
   ],
   "source": [
    "modified_function()"
   ]
  },
  {
   "cell_type": "code",
   "execution_count": 409,
   "id": "6eea4031-30c2-4073-ac8c-d5271780585e",
   "metadata": {
    "tags": []
   },
   "outputs": [
    {
     "name": "stdout",
     "output_type": "stream",
     "text": [
      "Before calling the function.\n",
      "Inside original example_function!\n",
      "After calling the function.\n"
     ]
    }
   ],
   "source": [
    "number = modified_function()"
   ]
  },
  {
   "cell_type": "code",
   "execution_count": 411,
   "id": "58fb17d2-f9c8-4f0a-9b69-ba609d930452",
   "metadata": {
    "tags": []
   },
   "outputs": [
    {
     "data": {
      "text/plain": [
       "3"
      ]
     },
     "execution_count": 411,
     "metadata": {},
     "output_type": "execute_result"
    }
   ],
   "source": [
    "number"
   ]
  },
  {
   "cell_type": "code",
   "execution_count": 413,
   "id": "405ef53b-7a96-43c3-a320-ef2fcc14b02e",
   "metadata": {
    "tags": []
   },
   "outputs": [],
   "source": [
    "def example_function2():\n",
    "    print(\"Inside second example_function!\")"
   ]
  },
  {
   "cell_type": "code",
   "execution_count": 415,
   "id": "92da2bc0-534c-4e3e-8b41-62e9e8f8c6da",
   "metadata": {
    "tags": []
   },
   "outputs": [
    {
     "name": "stdout",
     "output_type": "stream",
     "text": [
      "hello\n"
     ]
    }
   ],
   "source": [
    "modified_function2 = decorator(example_function2)"
   ]
  },
  {
   "cell_type": "code",
   "execution_count": 417,
   "id": "ae3731ae-297c-4616-867f-5db9f8a49318",
   "metadata": {
    "tags": []
   },
   "outputs": [
    {
     "name": "stdout",
     "output_type": "stream",
     "text": [
      "Inside second example_function!\n"
     ]
    }
   ],
   "source": [
    "example_function2()"
   ]
  },
  {
   "cell_type": "code",
   "execution_count": 419,
   "id": "b50384c5-c03a-4a35-be47-ad6281b272a2",
   "metadata": {
    "tags": []
   },
   "outputs": [
    {
     "name": "stdout",
     "output_type": "stream",
     "text": [
      "Before calling the function.\n",
      "Inside second example_function!\n",
      "After calling the function.\n"
     ]
    }
   ],
   "source": [
    "modified_function2()"
   ]
  },
  {
   "cell_type": "markdown",
   "id": "41320c46-19d7-4cbc-9ad7-dda5933208de",
   "metadata": {},
   "source": [
    "In Python, we have _syntactic sugar_ for decorators, using `@`:"
   ]
  },
  {
   "cell_type": "code",
   "execution_count": 421,
   "id": "2f08b76f-d26b-4124-b453-a04d210366ba",
   "metadata": {},
   "outputs": [
    {
     "name": "stdout",
     "output_type": "stream",
     "text": [
      "hello\n"
     ]
    }
   ],
   "source": [
    "@decorator\n",
    "def example_function3():\n",
    "    print(\"Inside third example_function!\")"
   ]
  },
  {
   "cell_type": "code",
   "execution_count": 423,
   "id": "b8f5eec3-136c-4ca8-876f-2a02362a32d1",
   "metadata": {},
   "outputs": [
    {
     "name": "stdout",
     "output_type": "stream",
     "text": [
      "Before calling the function.\n",
      "Inside third example_function!\n",
      "After calling the function.\n"
     ]
    }
   ],
   "source": [
    "example_function3()"
   ]
  },
  {
   "cell_type": "code",
   "execution_count": 429,
   "id": "34833a3e-5c6f-4591-85c0-749d378ac4db",
   "metadata": {
    "tags": []
   },
   "outputs": [
    {
     "name": "stdout",
     "output_type": "stream",
     "text": [
      "hello\n"
     ]
    }
   ],
   "source": [
    "@decorator\n",
    "def example_function3():\n",
    "    print(\"Inside third example_function!\")"
   ]
  },
  {
   "cell_type": "code",
   "execution_count": 431,
   "id": "1454a8ba-045d-4449-afd2-d1fdd41184e2",
   "metadata": {
    "tags": []
   },
   "outputs": [
    {
     "name": "stdout",
     "output_type": "stream",
     "text": [
      "Before calling the function.\n",
      "Inside third example_function!\n",
      "After calling the function.\n"
     ]
    }
   ],
   "source": [
    "example_function3()"
   ]
  },
  {
   "cell_type": "markdown",
   "id": "4508ad5d-88a5-41e9-aba1-51d2bbe2907d",
   "metadata": {},
   "source": [
    "#### Fibonacci sequence"
   ]
  },
  {
   "cell_type": "markdown",
   "id": "4bc96fbc-4b0c-4190-a1ca-9313bb149342",
   "metadata": {},
   "source": [
    "Let's look at a _recursive_ function that computes the $n$th Fibonacci number.  If we define $F_0 ≡ 0$ and $F_1 ≡ 1$, then $ F_n = F_{n-1} + F_{n-2}$."
   ]
  },
  {
   "cell_type": "code",
   "execution_count": null,
   "id": "27b42156-f06e-484d-ae8c-767d8267fb4d",
   "metadata": {},
   "outputs": [],
   "source": [
    "def fibonacci(n: int) -> int:\n",
    "    print(\"Calculating Fibonacci number for n =\", n)\n",
    "    return n if n < 2 else fibonacci(n - 1) + fibonacci(n - 2)"
   ]
  },
  {
   "cell_type": "code",
   "execution_count": null,
   "id": "e7ddee57-66fb-4c28-9cd9-30fddd7d0b0b",
   "metadata": {},
   "outputs": [],
   "source": [
    "fibonacci(2)"
   ]
  },
  {
   "cell_type": "code",
   "execution_count": null,
   "id": "fca36cc4-9349-4433-b13c-e2e2a1e66c23",
   "metadata": {},
   "outputs": [],
   "source": [
    "fibonacci(4)"
   ]
  },
  {
   "cell_type": "markdown",
   "id": "bb81be84-72a8-428d-8324-c9690f350719",
   "metadata": {},
   "source": [
    "[`@functools.cache`]: https://docs.python.org/3/library/functools.html#functools.cache\n",
    "\n",
    "We'll use [`@functools.cache`] to store the output of a function for a particular argument."
   ]
  },
  {
   "cell_type": "code",
   "execution_count": null,
   "id": "bb8147dc-165d-48e7-a5ae-a325410b2d22",
   "metadata": {},
   "outputs": [],
   "source": [
    "from functools import cache\n",
    "\n",
    "\n",
    "@cache\n",
    "def fibonacci_cached(n: int) -> int:\n",
    "    print(\"Calculating Fibonacci number for n =\", n)\n",
    "    return n if n < 2 else fibonacci_cached(n - 1) + fibonacci_cached(n - 2)"
   ]
  },
  {
   "cell_type": "code",
   "execution_count": null,
   "id": "c861945a-c8e9-43d9-9dfe-00bde320129c",
   "metadata": {},
   "outputs": [],
   "source": [
    "fibonacci_cached(2)"
   ]
  },
  {
   "cell_type": "code",
   "execution_count": null,
   "id": "01f5996f-5218-45c8-9fa1-c97755600a3e",
   "metadata": {},
   "outputs": [],
   "source": [
    "fibonacci_cached(5)"
   ]
  },
  {
   "cell_type": "markdown",
   "id": "8fb186d4-0a5c-462c-ba67-117906be5771",
   "metadata": {},
   "source": [
    "Let's try calling it again!"
   ]
  },
  {
   "cell_type": "code",
   "execution_count": null,
   "id": "fee0a698-e73e-4f69-a690-68daa39a043c",
   "metadata": {},
   "outputs": [],
   "source": [
    "fibonacci_cached(5)"
   ]
  }
 ],
 "metadata": {
  "celltoolbar": "Tags",
  "kernelspec": {
   "display_name": "Python 3 (ipykernel)",
   "language": "python",
   "name": "python3"
  },
  "language_info": {
   "codemirror_mode": {
    "name": "ipython",
    "version": 3
   },
   "file_extension": ".py",
   "mimetype": "text/x-python",
   "name": "python",
   "nbconvert_exporter": "python",
   "pygments_lexer": "ipython3",
   "version": "3.11.4"
  },
  "widgets": {
   "application/vnd.jupyter.widget-state+json": {
    "state": {},
    "version_major": 2,
    "version_minor": 0
   }
  }
 },
 "nbformat": 4,
 "nbformat_minor": 5
}
