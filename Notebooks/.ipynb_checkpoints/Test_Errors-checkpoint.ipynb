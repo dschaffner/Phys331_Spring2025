{
 "cells": [
  {
   "cell_type": "code",
   "execution_count": 1,
   "id": "ef9e8a5a-e7c6-4e92-aa0a-61569dfcea79",
   "metadata": {
    "tags": []
   },
   "outputs": [],
   "source": [
    "import plasmapy\n",
    "import astropy.units as u"
   ]
  },
  {
   "cell_type": "code",
   "execution_count": 3,
   "id": "e3afa6e9-b1cb-4b57-ad25-9d1302047ae9",
   "metadata": {
    "tags": []
   },
   "outputs": [
    {
     "data": {
      "text/latex": [
       "$9.7593436 \\times 10^{-5} \\; \\mathrm{m}$"
      ],
      "text/plain": [
       "<Quantity 9.75934364e-05 m>"
      ]
     },
     "execution_count": 3,
     "metadata": {},
     "output_type": "execute_result"
    }
   ],
   "source": [
    "plasmapy.formulary.lengths.Debye_length(10000*u.K,5e15*u.m**-3)"
   ]
  },
  {
   "cell_type": "code",
   "execution_count": 5,
   "id": "a0d5f2bc-4949-4f6e-b0e2-95c45f7cfd36",
   "metadata": {
    "tags": []
   },
   "outputs": [
    {
     "name": "stderr",
     "output_type": "stream",
     "text": [
      "WARNING: UnitsWarning: The argument 'T_e' to function Debye_length() has no specified units. Assuming units of K. To silence this warning, explicitly pass in an astropy Quantity (e.g. 5. * astropy.units.cm) (see http://docs.astropy.org/en/stable/units/) [plasmapy.utils.decorators.validators]\n"
     ]
    },
    {
     "data": {
      "text/latex": [
       "$9.7593436 \\times 10^{-5} \\; \\mathrm{m}$"
      ],
      "text/plain": [
       "<Quantity 9.75934364e-05 m>"
      ]
     },
     "execution_count": 5,
     "metadata": {},
     "output_type": "execute_result"
    }
   ],
   "source": [
    "plasmapy.formulary.lengths.Debye_length(10000,5e15*u.m**-3)"
   ]
  },
  {
   "cell_type": "code",
   "execution_count": 7,
   "id": "91c9db82-1db1-45a2-b55a-e0267c88804b",
   "metadata": {
    "tags": []
   },
   "outputs": [
    {
     "ename": "TypeError",
     "evalue": "The argument 'T_e' to function Debye_length() has no 'unit' attribute. Use an astropy Quantity instead.",
     "output_type": "error",
     "traceback": [
      "\u001b[1;31m---------------------------------------------------------------------------\u001b[0m",
      "\u001b[1;31mTypeError\u001b[0m                                 Traceback (most recent call last)",
      "Cell \u001b[1;32mIn[7], line 1\u001b[0m\n\u001b[1;32m----> 1\u001b[0m plasmapy\u001b[38;5;241m.\u001b[39mformulary\u001b[38;5;241m.\u001b[39mlengths\u001b[38;5;241m.\u001b[39mDebye_length(\u001b[38;5;124m\"\u001b[39m\u001b[38;5;124ma\u001b[39m\u001b[38;5;124m\"\u001b[39m,\u001b[38;5;241m5e15\u001b[39m\u001b[38;5;241m*\u001b[39mu\u001b[38;5;241m.\u001b[39mm\u001b[38;5;241m*\u001b[39m\u001b[38;5;241m*\u001b[39m\u001b[38;5;241m-\u001b[39m\u001b[38;5;241m3\u001b[39m)\n",
      "File \u001b[1;32m~\\AppData\\Roaming\\Python\\Python311\\site-packages\\plasmapy\\utils\\decorators\\validators.py:200\u001b[0m, in \u001b[0;36mValidateQuantities.__call__.<locals>.wrapper\u001b[1;34m(*args, **kwargs)\u001b[0m\n\u001b[0;32m    197\u001b[0m         \u001b[38;5;28;01mcontinue\u001b[39;00m\n\u001b[0;32m    199\u001b[0m     \u001b[38;5;66;03m# validate argument & update for conversion\u001b[39;00m\n\u001b[1;32m--> 200\u001b[0m     arg \u001b[38;5;241m=\u001b[39m \u001b[38;5;28mself\u001b[39m\u001b[38;5;241m.\u001b[39m_validate_quantity(\n\u001b[0;32m    201\u001b[0m         bound_args\u001b[38;5;241m.\u001b[39marguments[arg_name], arg_name, validations[arg_name]\n\u001b[0;32m    202\u001b[0m     )\n\u001b[0;32m    203\u001b[0m     bound_args\u001b[38;5;241m.\u001b[39marguments[arg_name] \u001b[38;5;241m=\u001b[39m arg\n\u001b[0;32m    205\u001b[0m \u001b[38;5;66;03m# call function\u001b[39;00m\n",
      "File \u001b[1;32m~\\AppData\\Roaming\\Python\\Python311\\site-packages\\plasmapy\\utils\\decorators\\validators.py:376\u001b[0m, in \u001b[0;36mValidateQuantities._validate_quantity\u001b[1;34m(self, arg, arg_name, arg_validations)\u001b[0m\n\u001b[0;32m    374\u001b[0m     arg \u001b[38;5;241m=\u001b[39m arg\u001b[38;5;241m.\u001b[39mto(unit, equivalencies\u001b[38;5;241m=\u001b[39mequiv)\n\u001b[0;32m    375\u001b[0m \u001b[38;5;28;01melif\u001b[39;00m err \u001b[38;5;129;01mis\u001b[39;00m \u001b[38;5;129;01mnot\u001b[39;00m \u001b[38;5;28;01mNone\u001b[39;00m:\n\u001b[1;32m--> 376\u001b[0m     \u001b[38;5;28;01mraise\u001b[39;00m err\n\u001b[0;32m    378\u001b[0m \u001b[38;5;28mself\u001b[39m\u001b[38;5;241m.\u001b[39m_check_value(arg, arg_name, arg_validations)\n\u001b[0;32m    380\u001b[0m \u001b[38;5;28;01mreturn\u001b[39;00m arg\n",
      "\u001b[1;31mTypeError\u001b[0m: The argument 'T_e' to function Debye_length() has no 'unit' attribute. Use an astropy Quantity instead."
     ]
    }
   ],
   "source": [
    "plasmapy.formulary.lengths.Debye_length(\"a\",5e15*u.m**-3)"
   ]
  },
  {
   "cell_type": "code",
   "execution_count": 9,
   "id": "2d23d7d2-96e4-455b-b46f-26aa4788df47",
   "metadata": {
    "tags": []
   },
   "outputs": [
    {
     "ename": "UnitTypeError",
     "evalue": "The argument 'T_e' to function Debye_length() should be an astropy Quantity with the following unit: K",
     "output_type": "error",
     "traceback": [
      "\u001b[1;31m---------------------------------------------------------------------------\u001b[0m",
      "\u001b[1;31mUnitTypeError\u001b[0m                             Traceback (most recent call last)",
      "Cell \u001b[1;32mIn[9], line 1\u001b[0m\n\u001b[1;32m----> 1\u001b[0m plasmapy\u001b[38;5;241m.\u001b[39mformulary\u001b[38;5;241m.\u001b[39mlengths\u001b[38;5;241m.\u001b[39mDebye_length(\u001b[38;5;241m10000\u001b[39m\u001b[38;5;241m*\u001b[39mu\u001b[38;5;241m.\u001b[39mT,\u001b[38;5;241m5e15\u001b[39m\u001b[38;5;241m*\u001b[39mu\u001b[38;5;241m.\u001b[39mm\u001b[38;5;241m*\u001b[39m\u001b[38;5;241m*\u001b[39m\u001b[38;5;241m-\u001b[39m\u001b[38;5;241m3\u001b[39m)\n",
      "File \u001b[1;32m~\\AppData\\Roaming\\Python\\Python311\\site-packages\\plasmapy\\utils\\decorators\\validators.py:200\u001b[0m, in \u001b[0;36mValidateQuantities.__call__.<locals>.wrapper\u001b[1;34m(*args, **kwargs)\u001b[0m\n\u001b[0;32m    197\u001b[0m         \u001b[38;5;28;01mcontinue\u001b[39;00m\n\u001b[0;32m    199\u001b[0m     \u001b[38;5;66;03m# validate argument & update for conversion\u001b[39;00m\n\u001b[1;32m--> 200\u001b[0m     arg \u001b[38;5;241m=\u001b[39m \u001b[38;5;28mself\u001b[39m\u001b[38;5;241m.\u001b[39m_validate_quantity(\n\u001b[0;32m    201\u001b[0m         bound_args\u001b[38;5;241m.\u001b[39marguments[arg_name], arg_name, validations[arg_name]\n\u001b[0;32m    202\u001b[0m     )\n\u001b[0;32m    203\u001b[0m     bound_args\u001b[38;5;241m.\u001b[39marguments[arg_name] \u001b[38;5;241m=\u001b[39m arg\n\u001b[0;32m    205\u001b[0m \u001b[38;5;66;03m# call function\u001b[39;00m\n",
      "File \u001b[1;32m~\\AppData\\Roaming\\Python\\Python311\\site-packages\\plasmapy\\utils\\decorators\\validators.py:376\u001b[0m, in \u001b[0;36mValidateQuantities._validate_quantity\u001b[1;34m(self, arg, arg_name, arg_validations)\u001b[0m\n\u001b[0;32m    374\u001b[0m     arg \u001b[38;5;241m=\u001b[39m arg\u001b[38;5;241m.\u001b[39mto(unit, equivalencies\u001b[38;5;241m=\u001b[39mequiv)\n\u001b[0;32m    375\u001b[0m \u001b[38;5;28;01melif\u001b[39;00m err \u001b[38;5;129;01mis\u001b[39;00m \u001b[38;5;129;01mnot\u001b[39;00m \u001b[38;5;28;01mNone\u001b[39;00m:\n\u001b[1;32m--> 376\u001b[0m     \u001b[38;5;28;01mraise\u001b[39;00m err\n\u001b[0;32m    378\u001b[0m \u001b[38;5;28mself\u001b[39m\u001b[38;5;241m.\u001b[39m_check_value(arg, arg_name, arg_validations)\n\u001b[0;32m    380\u001b[0m \u001b[38;5;28;01mreturn\u001b[39;00m arg\n",
      "\u001b[1;31mUnitTypeError\u001b[0m: The argument 'T_e' to function Debye_length() should be an astropy Quantity with the following unit: K"
     ]
    }
   ],
   "source": [
    "plasmapy.formulary.lengths.Debye_length(10000*u.T,5e15*u.m**-3)"
   ]
  },
  {
   "cell_type": "code",
   "execution_count": 11,
   "id": "626f4324-6916-4497-9a85-ac8aa31dd060",
   "metadata": {
    "tags": []
   },
   "outputs": [
    {
     "ename": "ValueError",
     "evalue": "The argument 'T_e' to function Debye_length() can not contain negative numbers.",
     "output_type": "error",
     "traceback": [
      "\u001b[1;31m---------------------------------------------------------------------------\u001b[0m",
      "\u001b[1;31mValueError\u001b[0m                                Traceback (most recent call last)",
      "Cell \u001b[1;32mIn[11], line 1\u001b[0m\n\u001b[1;32m----> 1\u001b[0m plasmapy\u001b[38;5;241m.\u001b[39mformulary\u001b[38;5;241m.\u001b[39mlengths\u001b[38;5;241m.\u001b[39mDebye_length(\u001b[38;5;241m-\u001b[39m\u001b[38;5;241m10000\u001b[39m\u001b[38;5;241m*\u001b[39mu\u001b[38;5;241m.\u001b[39mK,\u001b[38;5;241m5e15\u001b[39m\u001b[38;5;241m*\u001b[39mu\u001b[38;5;241m.\u001b[39mm\u001b[38;5;241m*\u001b[39m\u001b[38;5;241m*\u001b[39m\u001b[38;5;241m-\u001b[39m\u001b[38;5;241m3\u001b[39m)\n",
      "File \u001b[1;32m~\\AppData\\Roaming\\Python\\Python311\\site-packages\\plasmapy\\utils\\decorators\\validators.py:200\u001b[0m, in \u001b[0;36mValidateQuantities.__call__.<locals>.wrapper\u001b[1;34m(*args, **kwargs)\u001b[0m\n\u001b[0;32m    197\u001b[0m         \u001b[38;5;28;01mcontinue\u001b[39;00m\n\u001b[0;32m    199\u001b[0m     \u001b[38;5;66;03m# validate argument & update for conversion\u001b[39;00m\n\u001b[1;32m--> 200\u001b[0m     arg \u001b[38;5;241m=\u001b[39m \u001b[38;5;28mself\u001b[39m\u001b[38;5;241m.\u001b[39m_validate_quantity(\n\u001b[0;32m    201\u001b[0m         bound_args\u001b[38;5;241m.\u001b[39marguments[arg_name], arg_name, validations[arg_name]\n\u001b[0;32m    202\u001b[0m     )\n\u001b[0;32m    203\u001b[0m     bound_args\u001b[38;5;241m.\u001b[39marguments[arg_name] \u001b[38;5;241m=\u001b[39m arg\n\u001b[0;32m    205\u001b[0m \u001b[38;5;66;03m# call function\u001b[39;00m\n",
      "File \u001b[1;32m~\\AppData\\Roaming\\Python\\Python311\\site-packages\\plasmapy\\utils\\decorators\\validators.py:378\u001b[0m, in \u001b[0;36mValidateQuantities._validate_quantity\u001b[1;34m(self, arg, arg_name, arg_validations)\u001b[0m\n\u001b[0;32m    375\u001b[0m \u001b[38;5;28;01melif\u001b[39;00m err \u001b[38;5;129;01mis\u001b[39;00m \u001b[38;5;129;01mnot\u001b[39;00m \u001b[38;5;28;01mNone\u001b[39;00m:\n\u001b[0;32m    376\u001b[0m     \u001b[38;5;28;01mraise\u001b[39;00m err\n\u001b[1;32m--> 378\u001b[0m \u001b[38;5;28mself\u001b[39m\u001b[38;5;241m.\u001b[39m_check_value(arg, arg_name, arg_validations)\n\u001b[0;32m    380\u001b[0m \u001b[38;5;28;01mreturn\u001b[39;00m arg\n",
      "File \u001b[1;32m~\\AppData\\Roaming\\Python\\Python311\\site-packages\\plasmapy\\utils\\decorators\\checks.py:332\u001b[0m, in \u001b[0;36mCheckValues._check_value\u001b[1;34m(self, arg, arg_name, arg_checks)\u001b[0m\n\u001b[0;32m    330\u001b[0m \u001b[38;5;28;01melif\u001b[39;00m ckey \u001b[38;5;241m==\u001b[39m \u001b[38;5;124m\"\u001b[39m\u001b[38;5;124mcan_be_negative\u001b[39m\u001b[38;5;124m\"\u001b[39m:\n\u001b[0;32m    331\u001b[0m     \u001b[38;5;28;01mif\u001b[39;00m \u001b[38;5;129;01mnot\u001b[39;00m arg_checks[ckey] \u001b[38;5;129;01mand\u001b[39;00m np\u001b[38;5;241m.\u001b[39many(arg \u001b[38;5;241m<\u001b[39m \u001b[38;5;241m0\u001b[39m):\n\u001b[1;32m--> 332\u001b[0m         \u001b[38;5;28;01mraise\u001b[39;00m \u001b[38;5;167;01mValueError\u001b[39;00m(\u001b[38;5;124mf\u001b[39m\u001b[38;5;124m\"\u001b[39m\u001b[38;5;132;01m{\u001b[39;00mvalueerror_msg\u001b[38;5;132;01m}\u001b[39;00m\u001b[38;5;124m negative numbers.\u001b[39m\u001b[38;5;124m\"\u001b[39m)\n\u001b[0;32m    334\u001b[0m \u001b[38;5;28;01melif\u001b[39;00m ckey \u001b[38;5;241m==\u001b[39m \u001b[38;5;124m\"\u001b[39m\u001b[38;5;124mcan_be_zero\u001b[39m\u001b[38;5;124m\"\u001b[39m:\n\u001b[0;32m    335\u001b[0m     \u001b[38;5;28;01mif\u001b[39;00m \u001b[38;5;129;01mnot\u001b[39;00m arg_checks[ckey] \u001b[38;5;129;01mand\u001b[39;00m np\u001b[38;5;241m.\u001b[39many(arg \u001b[38;5;241m==\u001b[39m \u001b[38;5;241m0\u001b[39m):\n",
      "\u001b[1;31mValueError\u001b[0m: The argument 'T_e' to function Debye_length() can not contain negative numbers."
     ]
    }
   ],
   "source": [
    "plasmapy.formulary.lengths.Debye_length(-10000*u.K,5e15*u.m**-3)"
   ]
  },
  {
   "cell_type": "code",
   "execution_count": null,
   "id": "d1481cb1-28ea-4dd0-83e4-40b26c5af9c4",
   "metadata": {},
   "outputs": [],
   "source": []
  }
 ],
 "metadata": {
  "kernelspec": {
   "display_name": "Python 3 (ipykernel)",
   "language": "python",
   "name": "python3"
  },
  "language_info": {
   "codemirror_mode": {
    "name": "ipython",
    "version": 3
   },
   "file_extension": ".py",
   "mimetype": "text/x-python",
   "name": "python",
   "nbconvert_exporter": "python",
   "pygments_lexer": "ipython3",
   "version": "3.11.4"
  }
 },
 "nbformat": 4,
 "nbformat_minor": 5
}
