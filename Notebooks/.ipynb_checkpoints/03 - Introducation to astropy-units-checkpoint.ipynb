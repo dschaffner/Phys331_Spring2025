{
 "cells": [
  {
   "cell_type": "markdown",
   "id": "6e8f0d92",
   "metadata": {},
   "source": [
    "# Tutorial 03 - Introduction to `astropy.units`"
   ]
  },
  {
   "cell_type": "markdown",
   "id": "fbdc1fd8-6542-45a6-9375-c8016a15ac67",
   "metadata": {
    "nbsphinx": "hidden"
   },
   "source": [
    "[`astropy.units`]: https://docs.astropy.org/en/stable/units/index.html\n",
    "\n",
    "This tutorial introduces us to [`astropy.units`] which is a way to assign a specific unit to an array. This can be very useful in preventing errors from occuring. An error in a formula or calculation can be caught early if the result reports an incorrect unit.\n",
    "\n",
    "First, install `astropy.units` from the `astropy` module as well as a few other necessary modules."
   ]
  },
  {
   "cell_type": "code",
   "execution_count": null,
   "id": "33fe81d8-c1e6-4fe2-97a4-d62ce59b94b3",
   "metadata": {},
   "outputs": [],
   "source": [
    "import astropy.units as u\n",
    "from astropy.visualization import quantity_support\n",
    "from astropy import constants\n",
    "import matplotlib.pyplot as plt\n",
    "import numpy as np"
   ]
  },
  {
   "cell_type": "markdown",
   "id": "7c7ff8c4-5846-4cfd-9634-8b2aa8d871fa",
   "metadata": {},
   "source": [
    "## Motivation"
   ]
  },
  {
   "cell_type": "markdown",
   "id": "c566fe1c",
   "metadata": {},
   "source": [
    "In scientific computing, we often represent physical quantities as numbers."
   ]
  },
  {
   "cell_type": "code",
   "execution_count": null,
   "id": "ee456b33",
   "metadata": {},
   "outputs": [],
   "source": [
    "distance_in_miles = 50\n",
    "time_in_hours = 2\n",
    "velocity_in_mph = distance_in_miles / time_in_hours\n",
    "print(velocity_in_mph)"
   ]
  },
  {
   "cell_type": "markdown",
   "id": "93658d4f",
   "metadata": {},
   "source": [
    "[`astropy.units`]: https://docs.astropy.org/en/stable/units/index.html\n",
    "[`plasmapy.particles`]: ../../particles/index.rst\n",
    "[`plasmapy.formulary`]: ../../formulary/index.rst\n",
    "\n",
    "Representing a physical quantity as a number has risks. We might unknowingly perform operations with different units, like `time_in_seconds + time_in_hours`. We might even accidentally perform operations with physically incompatible units, like `length + time`, without catching our mistake. Unit conversion errors can be costly mistakes, such as the loss of spacecraft like the [Mars Climate Orbiter](https://science.nasa.gov/mission/mars-climate-orbiter).\n",
    "\n",
    "We can avoid these problems by using a units package. We typically import [`astropy.units`] subpackage as `u`."
   ]
  },
  {
   "cell_type": "markdown",
   "id": "a9fad673",
   "metadata": {},
   "source": [
    "## Unit essentials"
   ]
  },
  {
   "cell_type": "markdown",
   "id": "e9ccbb06",
   "metadata": {},
   "source": [
    "We can create a _physical quantity_ by multiplying or dividing a number or array with a unit."
   ]
  },
  {
   "cell_type": "code",
   "execution_count": null,
   "id": "8437650a",
   "metadata": {},
   "outputs": [],
   "source": [
    "distance = 60 * u.km\n",
    "print(distance)"
   ]
  },
  {
   "cell_type": "markdown",
   "id": "ccc6659f",
   "metadata": {},
   "source": [
    "[`Quantity`]: https://docs.astropy.org/en/stable/api/astropy.units.Quantity.html#astropy.units.Quantity\n",
    "\n",
    "This operation creates a [`Quantity`] object: a number, sequence, or array that has been assigned a physical unit."
   ]
  },
  {
   "cell_type": "code",
   "execution_count": null,
   "id": "a6354b93",
   "metadata": {},
   "outputs": [],
   "source": [
    "type(distance)"
   ]
  },
  {
   "cell_type": "markdown",
   "id": "744a9b01",
   "metadata": {},
   "source": [
    "[`Quantity`]: https://docs.astropy.org/en/stable/api/astropy.units.Quantity.html#astropy.units.Quantity\n",
    "\n",
    "We can create an object by using the [`Quantity`] class itself."
   ]
  },
  {
   "cell_type": "code",
   "execution_count": null,
   "id": "8d2bb681",
   "metadata": {},
   "outputs": [],
   "source": [
    "time = u.Quantity(120, u.min)"
   ]
  },
  {
   "cell_type": "markdown",
   "id": "1bb28951",
   "metadata": {},
   "source": [
    "[`Quantity`]: https://docs.astropy.org/en/stable/api/astropy.units.Quantity.html#astropy.units.Quantity\n",
    "\n",
    "We can create [`Quantity`] objects with compound units."
   ]
  },
  {
   "cell_type": "code",
   "execution_count": null,
   "id": "4932159b",
   "metadata": {},
   "outputs": [],
   "source": [
    "88 * u.imperial.mile / u.hour"
   ]
  },
  {
   "cell_type": "markdown",
   "id": "9cc9adba",
   "metadata": {},
   "source": [
    "[`Quantity`]: https://docs.astropy.org/en/stable/api/astropy.units.Quantity.html#astropy.units.Quantity\n",
    "\n",
    "We can even create [`Quantity`] objects that are explicitly dimensionless. "
   ]
  },
  {
   "cell_type": "code",
   "execution_count": null,
   "id": "09e9752c",
   "metadata": {},
   "outputs": [],
   "source": [
    "3 * u.dimensionless_unscaled"
   ]
  },
  {
   "cell_type": "markdown",
   "id": "4cffc8a0",
   "metadata": {},
   "source": [
    "[`Quantity`]: https://docs.astropy.org/en/stable/api/astropy.units.Quantity.html#astropy.units.Quantity\n",
    "\n",
    "We can also create a [`Quantity`] based off of a NumPy array or a list."
   ]
  },
  {
   "cell_type": "code",
   "execution_count": null,
   "id": "e3235d80",
   "metadata": {},
   "outputs": [],
   "source": [
    "np.array([2.5, 3.2, 1.1]) * u.kg"
   ]
  },
  {
   "cell_type": "code",
   "execution_count": null,
   "id": "a686fd93",
   "metadata": {},
   "outputs": [],
   "source": [
    "[2, 3, 4] * u.m / u.s"
   ]
  },
  {
   "cell_type": "markdown",
   "id": "a60e9ea9",
   "metadata": {},
   "source": [
    "## Unit operations\n",
    "\n",
    "[`Quantity`]: https://docs.astropy.org/en/stable/api/astropy.units.Quantity.html#astropy.units.Quantity\n",
    "\n",
    "Operations between [`Quantity`] objects handle unit conversions automatically. We can add [`Quantity`] objects together as long as their units have the same physical type."
   ]
  },
  {
   "cell_type": "code",
   "execution_count": null,
   "id": "65e08284",
   "metadata": {},
   "outputs": [],
   "source": [
    "1 * u.m + 25 * u.cm"
   ]
  },
  {
   "cell_type": "markdown",
   "id": "edb43067",
   "metadata": {},
   "source": [
    "Units get handled automatically during operations like multiplication, division, and exponentiation."
   ]
  },
  {
   "cell_type": "code",
   "execution_count": null,
   "id": "c36788db",
   "metadata": {},
   "outputs": [],
   "source": [
    "velocity = distance / time\n",
    "print(velocity)"
   ]
  },
  {
   "cell_type": "code",
   "execution_count": null,
   "id": "04b48a57",
   "metadata": {},
   "outputs": [],
   "source": [
    "area = distance**2\n",
    "print(area)"
   ]
  },
  {
   "cell_type": "markdown",
   "id": "98331629",
   "metadata": {},
   "source": [
    "Attempting an operation between physically incompatible units gives us an error, which we can use to find bugs in our code. What error does the following operation report?"
   ]
  },
  {
   "cell_type": "code",
   "execution_count": null,
   "id": "0877feb6",
   "metadata": {
    "tags": [
     "raises-exception"
    ]
   },
   "outputs": [],
   "source": [
    "3 * u.m + 3 * u.s"
   ]
  },
  {
   "cell_type": "markdown",
   "id": "4f0c461e",
   "metadata": {},
   "source": [
    "[`Quantity`]: https://docs.astropy.org/en/stable/api/astropy.units.Quantity.html#astropy.units.Quantity\n",
    "[`numpy.ndarray`]: https://numpy.org/doc/stable/reference/generated/numpy.ndarray.html\n",
    "\n",
    "[`Quantity`] arrays behave very similarly to NumPy arrays. In fact, [`Quantity`] is a subclass of [`numpy.ndarray`]."
   ]
  },
  {
   "cell_type": "code",
   "execution_count": null,
   "id": "59389429",
   "metadata": {},
   "outputs": [],
   "source": [
    "balmer_series = [656, 486, 434, 410] * u.nm\n",
    "Hα = balmer_series[0]\n",
    "print(Hα)"
   ]
  },
  {
   "cell_type": "code",
   "execution_count": null,
   "id": "a6545132",
   "metadata": {},
   "outputs": [],
   "source": [
    "np.max(balmer_series)"
   ]
  },
  {
   "cell_type": "markdown",
   "id": "e1bb9434",
   "metadata": {},
   "source": [
    "[NumPy]: https://numpy.org/\n",
    "[SciPy]: https://scipy.org/\n",
    "\n",
    "[`Quantity`]: https://docs.astropy.org/en/stable/api/astropy.units.Quantity.html#astropy.units.Quantity\n",
    "[lose their units]: https://docs.astropy.org/en/stable/known_issues.html#quantities-lose-their-units-with-some-operations\n",
    "\n",
    "⚠️ Most frequently encountered [NumPy] and [SciPy] functions can be used with [`Quantity`] objects. However, there are some functions that cause [`Quantity`] objects to [lose their units]!"
   ]
  },
  {
   "cell_type": "markdown",
   "id": "b910a84b",
   "metadata": {},
   "source": [
    "## Unit conversions\n",
    "\n",
    "[`Quantity`]: https://docs.astropy.org/en/stable/api/astropy.units.Quantity.html#astropy.units.Quantity\n",
    "[`to`]: https://docs.astropy.org/en/stable/api/astropy.units.Quantity.html#astropy.units.Quantity.to\n",
    "\n",
    "The [`to`] method allows us to convert a [`Quantity`] to different units of the same physical type. This method accepts strings that represent a unit (including compound units) or a unit object."
   ]
  },
  {
   "cell_type": "code",
   "execution_count": null,
   "id": "80f4f133",
   "metadata": {},
   "outputs": [],
   "source": [
    "velocity.to(\"m/s\")"
   ]
  },
  {
   "cell_type": "code",
   "execution_count": null,
   "id": "21c46ef1",
   "metadata": {},
   "outputs": [],
   "source": [
    "velocity.to(u.m / u.s)"
   ]
  },
  {
   "cell_type": "markdown",
   "id": "c1e742ca",
   "metadata": {},
   "source": [
    "[`Quantity`]: https://docs.astropy.org/en/stable/api/astropy.units.Quantity.html#astropy.units.Quantity\n",
    "[`si`]: https://docs.astropy.org/en/stable/api/astropy.units.Quantity.html#astropy.units.Quantity.si\n",
    "[`cgs`]: https://docs.astropy.org/en/stable/api/astropy.units.Quantity.html#astropy.units.Quantity.cgs\n",
    "\n",
    "The [`si`] and [`cgs`] attributes convert the [`Quantity`] to SI or CGS units, respectively. "
   ]
  },
  {
   "cell_type": "code",
   "execution_count": null,
   "id": "02bda4d2",
   "metadata": {},
   "outputs": [],
   "source": [
    "velocity.si"
   ]
  },
  {
   "cell_type": "code",
   "execution_count": null,
   "id": "560a0cfe",
   "metadata": {},
   "outputs": [],
   "source": [
    "velocity.cgs"
   ]
  },
  {
   "cell_type": "markdown",
   "id": "1429d5a2",
   "metadata": {},
   "source": [
    "## Detaching units and values\n",
    "\n",
    "[`value`]: https://docs.astropy.org/en/stable/api/astropy.units.Quantity.html#astropy.units.Quantity.value \n",
    "[`Quantity`]: https://docs.astropy.org/en/stable/api/astropy.units.Quantity.html#astropy.units.Quantity\n",
    "\n",
    "The [`value`] attribute of a [`Quantity`] provides the number or array *without* the unit."
   ]
  },
  {
   "cell_type": "code",
   "execution_count": null,
   "id": "24e8403c",
   "metadata": {},
   "outputs": [],
   "source": [
    "time.value"
   ]
  },
  {
   "cell_type": "markdown",
   "id": "4c6c027b",
   "metadata": {},
   "source": [
    "[`unit`]: https://docs.astropy.org/en/stable/api/astropy.units.Quantity.html#astropy.units.Quantity.unit\n",
    "[`Quantity`]: https://docs.astropy.org/en/stable/api/astropy.units.Quantity.html#astropy.units.Quantity\n",
    "\n",
    "The [`unit`] attribute of a [`Quantity`] provides the unit without the value."
   ]
  },
  {
   "cell_type": "code",
   "execution_count": null,
   "id": "2c41a2fa",
   "metadata": {},
   "outputs": [],
   "source": [
    "time.unit"
   ]
  },
  {
   "cell_type": "markdown",
   "id": "7ec6d857",
   "metadata": {},
   "source": [
    "## Physical constants"
   ]
  },
  {
   "cell_type": "markdown",
   "id": "b714de6a",
   "metadata": {},
   "source": [
    "[`astropy.constants`]: https://docs.astropy.org/en/stable/constants/index.html\n",
    "\n",
    "We can use [`astropy.constants`] to access the most commonly needed physical constants."
   ]
  },
  {
   "cell_type": "code",
   "execution_count": null,
   "id": "746a79a7",
   "metadata": {},
   "outputs": [],
   "source": [
    "print(constants.c)"
   ]
  },
  {
   "cell_type": "markdown",
   "id": "c3ee9feb",
   "metadata": {},
   "source": [
    "[`Constant`]: https://docs.astropy.org/en/stable/api/astropy.constants.Constant.html#astropy.constants.Constant\n",
    "[`Quantity`]: https://docs.astropy.org/en/stable/api/astropy.units.Quantity.html#astropy.units.Quantity\n",
    "[`u.temperature_energy()`]: https://docs.astropy.org/en/stable/units/equivalencies.html#temperature-energy-equivalency\n",
    "\n",
    "A [`Constant`] behaves very similarly to a [`Quantity`]"
   ]
  },
  {
   "cell_type": "markdown",
   "id": "7c145497",
   "metadata": {},
   "source": [
    "Electromagnetic constants often need the unit system to be specified, or will result in an exception. What kind of error does the following command cause?"
   ]
  },
  {
   "cell_type": "code",
   "execution_count": null,
   "id": "015de7fc",
   "metadata": {
    "tags": [
     "raises-exception"
    ]
   },
   "outputs": [],
   "source": [
    "2 * constants.e"
   ]
  },
  {
   "cell_type": "markdown",
   "id": "47cee02f-9e01-4849-a23d-afa1be1ecef4",
   "metadata": {
    "tags": []
   },
   "source": [
    "Instead, specify that we want the fundemental charge by attaching the specific unit system tag."
   ]
  },
  {
   "cell_type": "code",
   "execution_count": null,
   "id": "1a90c979",
   "metadata": {},
   "outputs": [],
   "source": [
    "2 * constants.e.si"
   ]
  },
  {
   "cell_type": "markdown",
   "id": "4ff6e798-91dd-460d-bf29-172a95bf34b7",
   "metadata": {},
   "source": [
    "[`Quantity`]: https://docs.astropy.org/en/stable/api/astropy.units.Quantity.html#astropy.units.Quantity\n",
    "\n",
    "We can assign a unit to a value using the [`Quantity`] class directly."
   ]
  },
  {
   "cell_type": "markdown",
   "id": "55b8dcd1",
   "metadata": {},
   "source": [
    "## Physical types"
   ]
  },
  {
   "cell_type": "markdown",
   "id": "0421ee56",
   "metadata": {},
   "source": [
    "[physical type]: https://docs.astropy.org/en/stable/units/physical_types.html\n",
    "[`physical_type`]: https://docs.astropy.org/en/stable/api/astropy.units.UnitBase.html#astropy.units.UnitBase.physical_type\n",
    "[`get_physical_type()`]: https://docs.astropy.org/en/stable/api/astropy.units.get_physical_type.html#astropy.units.get_physical_type\n",
    "\n",
    "A [physical type] corresponds to physical quantities with dimensionally compatible units. Astropy has functionality that represents different physical types. These physical type objects can be accessed using either the [`physical_type`] attribute of a unit or [`get_physical_type()`]."
   ]
  },
  {
   "cell_type": "code",
   "execution_count": null,
   "id": "da6c9c7d",
   "metadata": {},
   "outputs": [],
   "source": [
    "(u.m**2 / u.s).physical_type"
   ]
  },
  {
   "cell_type": "code",
   "execution_count": null,
   "id": "f0d49b03",
   "metadata": {},
   "outputs": [],
   "source": [
    "u.get_physical_type(\"number density\")"
   ]
  },
  {
   "cell_type": "markdown",
   "id": "8cd7e09a",
   "metadata": {},
   "source": [
    "These physical type objects can be used for dimensional analysis."
   ]
  },
  {
   "cell_type": "code",
   "execution_count": null,
   "id": "d03b8eb0",
   "metadata": {},
   "outputs": [],
   "source": [
    "energy_density = (u.J * u.m**-3).physical_type\n",
    "velocity = u.get_physical_type(\"velocity\")\n",
    "print(energy_density * velocity)"
   ]
  },
  {
   "cell_type": "markdown",
   "id": "ff6c5c8d-2a21-4314-8b03-5b1096e94232",
   "metadata": {},
   "source": [
    "There are some pretty obscure physical types too!"
   ]
  },
  {
   "cell_type": "code",
   "execution_count": null,
   "id": "2371647f-f29d-41cb-b89d-226d4743ce26",
   "metadata": {},
   "outputs": [],
   "source": [
    "u.get_physical_type(u.m * u.s)"
   ]
  },
  {
   "cell_type": "markdown",
   "id": "105f770e-acce-4761-8d24-71a1502a03cd",
   "metadata": {},
   "source": [
    "What other physical types can you find in `astropy.units`?"
   ]
  },
  {
   "cell_type": "markdown",
   "id": "8f8e9237-b8d7-418c-a149-e3b2976c1cf3",
   "metadata": {},
   "source": [
    "As an excercise, try creating a function that computes the acceleration of a mass with a force acting on it. The function should look something like this:\n",
    "```\n",
    "def Newt2nd_acc(mass,force):\n",
    "    acc = force/mass\n",
    "    return acc\n",
    "```\n",
    "\n",
    "Then, define a variable with units of mass (u.kg) and another variable with units of force (u.N). Try running your function with these variables and print the result. What units are reported? You can double check that these are the correct units by using `u.get_physical_type()`\n",
    "\n",
    "How do we enforce whether the correct units are being used in the function? That will one of the lessons of a later tutorial."
   ]
  },
  {
   "cell_type": "code",
   "execution_count": null,
   "id": "c62c074c-7d60-4ef9-a06f-7285a563c34a",
   "metadata": {
    "tags": []
   },
   "outputs": [],
   "source": []
  }
 ],
 "metadata": {
  "celltoolbar": "Tags",
  "kernelspec": {
   "display_name": "Python 3 (ipykernel)",
   "language": "python",
   "name": "python3"
  },
  "language_info": {
   "codemirror_mode": {
    "name": "ipython",
    "version": 3
   },
   "file_extension": ".py",
   "mimetype": "text/x-python",
   "name": "python",
   "nbconvert_exporter": "python",
   "pygments_lexer": "ipython3",
   "version": "3.11.4"
  }
 },
 "nbformat": 4,
 "nbformat_minor": 5
}
