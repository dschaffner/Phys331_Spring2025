{
 "cells": [
  {
   "cell_type": "markdown",
   "id": "a5bd8ac2-3f05-44b6-a842-3e43bee447be",
   "metadata": {},
   "source": [
    "# Tutorial 04 - Writing Scientific Functions\n",
    "\n",
    "In this tutorial, we will explore the elements of a well-written scientific function."
   ]
  },
  {
   "cell_type": "code",
   "execution_count": 2,
   "id": "fa0f88fe-2cf8-4971-b11d-6f13f709e637",
   "metadata": {
    "tags": []
   },
   "outputs": [],
   "source": [
    "import astropy.units as u\n",
    "from astropy.visualization import quantity_support\n",
    "from astropy import constants\n",
    "import matplotlib.pyplot as plt\n",
    "import numpy as np"
   ]
  },
  {
   "cell_type": "code",
   "execution_count": 4,
   "id": "73dcdc77-d25d-4bba-8ec4-4c2beaad22fb",
   "metadata": {
    "tags": []
   },
   "outputs": [],
   "source": [
    "from plasmapy.utils.decorators import validate_quantities"
   ]
  },
  {
   "cell_type": "code",
   "execution_count": 6,
   "id": "e55a2380-42b6-41bb-8621-49547279cf71",
   "metadata": {
    "tags": []
   },
   "outputs": [],
   "source": [
    "@validate_quantities\n",
    "def foo(x: u.Quantity[u.m], time: u.Quantity[u.s]) -> u.Quantity[u.m / u.s]:\n",
    "    return x / time"
   ]
  },
  {
   "cell_type": "code",
   "execution_count": 8,
   "id": "2d3feb38-7bd8-48b1-bf79-690bf91b26ef",
   "metadata": {
    "tags": []
   },
   "outputs": [],
   "source": [
    "x=60*u.m"
   ]
  },
  {
   "cell_type": "code",
   "execution_count": 10,
   "id": "1a763198-56be-4128-9bc1-92f16ed1922e",
   "metadata": {
    "tags": []
   },
   "outputs": [],
   "source": [
    "time=30*u.s"
   ]
  },
  {
   "cell_type": "code",
   "execution_count": 12,
   "id": "2dcd4b80-0770-4ee3-baef-59cf8b97d1e4",
   "metadata": {
    "tags": []
   },
   "outputs": [],
   "source": [
    "acc=10*u.m/u.s**2"
   ]
  },
  {
   "cell_type": "code",
   "execution_count": 14,
   "id": "f972c8b0-2ca6-49db-b9c9-3d26529dbc9c",
   "metadata": {
    "tags": []
   },
   "outputs": [
    {
     "name": "stdout",
     "output_type": "stream",
     "text": [
      "10.0 m / s2\n"
     ]
    }
   ],
   "source": [
    "print(acc)"
   ]
  },
  {
   "cell_type": "code",
   "execution_count": 16,
   "id": "d335e205-7553-4f3f-b3a5-3e8708b0ab47",
   "metadata": {
    "tags": []
   },
   "outputs": [],
   "source": [
    "y = foo(x,time)"
   ]
  },
  {
   "cell_type": "code",
   "execution_count": 18,
   "id": "c7beb11d-bd69-4148-a979-200923455cee",
   "metadata": {
    "tags": []
   },
   "outputs": [
    {
     "name": "stdout",
     "output_type": "stream",
     "text": [
      "2.0 m / s\n"
     ]
    }
   ],
   "source": [
    "print(y)"
   ]
  },
  {
   "cell_type": "code",
   "execution_count": 20,
   "id": "fdeea990-d05a-4c32-a14b-488dd6c0020e",
   "metadata": {
    "tags": []
   },
   "outputs": [
    {
     "data": {
      "text/latex": [
       "$0.5 \\; \\mathrm{\\frac{s}{m}}$"
      ],
      "text/plain": [
       "<Quantity 0.5 s / m>"
      ]
     },
     "execution_count": 20,
     "metadata": {},
     "output_type": "execute_result"
    }
   ],
   "source": [
    "foo(time,x)"
   ]
  },
  {
   "cell_type": "code",
   "execution_count": 22,
   "id": "95289371-631c-4a02-a0c2-6efc0f64c122",
   "metadata": {
    "tags": []
   },
   "outputs": [
    {
     "data": {
      "text/latex": [
       "$2 \\; \\mathrm{\\frac{m}{s}}$"
      ],
      "text/plain": [
       "<Quantity 2. m / s>"
      ]
     },
     "execution_count": 22,
     "metadata": {},
     "output_type": "execute_result"
    }
   ],
   "source": [
    "foo(x,time)"
   ]
  },
  {
   "cell_type": "code",
   "execution_count": null,
   "id": "6fd81a30-534b-4262-8af1-d6c8acdc43c4",
   "metadata": {},
   "outputs": [],
   "source": []
  }
 ],
 "metadata": {
  "kernelspec": {
   "display_name": "Python [conda env:base] *",
   "language": "python",
   "name": "conda-base-py"
  },
  "language_info": {
   "codemirror_mode": {
    "name": "ipython",
    "version": 3
   },
   "file_extension": ".py",
   "mimetype": "text/x-python",
   "name": "python",
   "nbconvert_exporter": "python",
   "pygments_lexer": "ipython3",
   "version": "3.12.7"
  }
 },
 "nbformat": 4,
 "nbformat_minor": 5
}
