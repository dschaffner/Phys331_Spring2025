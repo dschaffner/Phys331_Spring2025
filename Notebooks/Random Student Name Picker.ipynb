{
 "cells": [
  {
   "cell_type": "markdown",
   "id": "8d9ed2a4",
   "metadata": {},
   "source": [
    "# Random Student Name Picker\n",
    "\n",
    "Press the green \"Pick a Student\" button to randomly choose a Phys 331 Spring 2025 Student!"
   ]
  },
  {
   "cell_type": "code",
   "execution_count": 1,
   "id": "a7339b00",
   "metadata": {},
   "outputs": [],
   "source": [
    "import ipywidgets as widgets\n",
    "from numpy.random import choice"
   ]
  },
  {
   "cell_type": "code",
   "execution_count": 2,
   "id": "0d34c1c2",
   "metadata": {},
   "outputs": [],
   "source": [
    "students=['Mayleen','Anvita','Louis','Jess','Catie','Julia',\n",
    "          'Sophie','Ella','Keya','Madeline','Angelina']"
   ]
  },
  {
   "cell_type": "code",
   "execution_count": 3,
   "id": "c62a39ec",
   "metadata": {},
   "outputs": [
    {
     "data": {
      "application/vnd.jupyter.widget-view+json": {
       "model_id": "e3d454b7966e4a4fa03d09c612a6db16",
       "version_major": 2,
       "version_minor": 0
      },
      "text/plain": [
       "ToggleButton(value=False, button_style='success', description='Pick a student', icon='check', tooltip='Descrip…"
      ]
     },
     "metadata": {},
     "output_type": "display_data"
    },
    {
     "data": {
      "application/vnd.jupyter.widget-view+json": {
       "model_id": "2787ee7912324cb09e52fd11432ec64b",
       "version_major": 2,
       "version_minor": 0
      },
      "text/plain": [
       "Output(layout=Layout(border_bottom='1px solid black', border_left='1px solid black', border_right='1px solid b…"
      ]
     },
     "metadata": {},
     "output_type": "display_data"
    }
   ],
   "source": [
    "toggle=widgets.ToggleButton(\n",
    "        value=False,\n",
    "        description='Pick a student',\n",
    "        disabled=False,\n",
    "        button_style='success', # 'success', 'info', 'warning', 'danger' or ''\n",
    "        tooltip='Description',\n",
    "        icon='check' # (FontAwesome names without the `fa-` prefix)\n",
    ")\n",
    "\n",
    "out = widgets.Output(layout=widgets.Layout(border = '1px solid black'))\n",
    "\n",
    "def choose(obj):\n",
    "    with out:\n",
    "        if obj['new']:  \n",
    "            display(choice(students))\n",
    "        else:\n",
    "            out.clear_output()\n",
    "toggle.observe(choose,'value')\n",
    "display(toggle)\n",
    "display(out)"
   ]
  },
  {
   "cell_type": "code",
   "execution_count": null,
   "id": "4e410601",
   "metadata": {},
   "outputs": [],
   "source": []
  }
 ],
 "metadata": {
  "kernelspec": {
   "display_name": "Python 3 (ipykernel)",
   "language": "python",
   "name": "python3"
  },
  "language_info": {
   "codemirror_mode": {
    "name": "ipython",
    "version": 3
   },
   "file_extension": ".py",
   "mimetype": "text/x-python",
   "name": "python",
   "nbconvert_exporter": "python",
   "pygments_lexer": "ipython3",
   "version": "3.11.4"
  }
 },
 "nbformat": 4,
 "nbformat_minor": 5
}
