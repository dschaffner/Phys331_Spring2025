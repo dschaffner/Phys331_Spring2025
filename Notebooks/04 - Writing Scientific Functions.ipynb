{
 "cells": [
  {
   "cell_type": "markdown",
   "id": "a5bd8ac2-3f05-44b6-a842-3e43bee447be",
   "metadata": {},
   "source": [
    "# Tutorial 04 - Writing Scientific Functions\n",
    "\n",
    "In this tutorial, we will explore the elements of a well-written scientific function."
   ]
  },
  {
   "cell_type": "markdown",
   "id": "0ba362cb-832c-4998-9a85-3260d02d0313",
   "metadata": {},
   "source": [
    "First, we'll import our usual packages."
   ]
  },
  {
   "cell_type": "code",
   "execution_count": null,
   "id": "fa0f88fe-2cf8-4971-b11d-6f13f709e637",
   "metadata": {
    "tags": []
   },
   "outputs": [],
   "source": [
    "import astropy.units as u\n",
    "from astropy.visualization import quantity_support\n",
    "from astropy import constants\n",
    "import matplotlib.pyplot as plt\n",
    "import numpy as np"
   ]
  },
  {
   "cell_type": "markdown",
   "id": "6341be06-275b-4a10-afa1-581cc25010fb",
   "metadata": {},
   "source": [
    "We will also import something from a new module called `plasmapy`. This new something is called a decorator, and in this case, the decorator is called `validate_quantities`. In python, a decorator is like a function modifier. It can also be thought of as a generate wrapper function. In our specific case, the decorator will test the expected unit inputs and outputs of a specific function to make sure they are what they should be."
   ]
  },
  {
   "cell_type": "code",
   "execution_count": null,
   "id": "73dcdc77-d25d-4bba-8ec4-4c2beaad22fb",
   "metadata": {
    "tags": []
   },
   "outputs": [],
   "source": [
    "from plasmapy.utils.decorators import validate_quantities"
   ]
  },
  {
   "cell_type": "code",
   "execution_count": null,
   "id": "e55a2380-42b6-41bb-8621-49547279cf71",
   "metadata": {
    "tags": []
   },
   "outputs": [],
   "source": [
    "@validate_quantities\n",
    "def foo(x: u.Quantity[u.m], time: u.Quantity[u.s]) -> u.Quantity[u.m / u.s]:\n",
    "    return x / time"
   ]
  },
  {
   "cell_type": "code",
   "execution_count": null,
   "id": "2d3feb38-7bd8-48b1-bf79-690bf91b26ef",
   "metadata": {
    "tags": []
   },
   "outputs": [],
   "source": [
    "x=60*u.m"
   ]
  },
  {
   "cell_type": "code",
   "execution_count": null,
   "id": "1a763198-56be-4128-9bc1-92f16ed1922e",
   "metadata": {
    "tags": []
   },
   "outputs": [],
   "source": [
    "time=30*u.s"
   ]
  },
  {
   "cell_type": "code",
   "execution_count": null,
   "id": "d335e205-7553-4f3f-b3a5-3e8708b0ab47",
   "metadata": {
    "tags": []
   },
   "outputs": [],
   "source": [
    "foo(x,time)"
   ]
  },
  {
   "cell_type": "code",
   "execution_count": null,
   "id": "fdeea990-d05a-4c32-a14b-488dd6c0020e",
   "metadata": {
    "tags": []
   },
   "outputs": [],
   "source": [
    "foo(time,x)"
   ]
  },
  {
   "cell_type": "code",
   "execution_count": null,
   "id": "c72d63eb-68f8-4d38-a74e-c90ba1ea1af6",
   "metadata": {
    "tags": []
   },
   "outputs": [],
   "source": [
    "@validate_quantities\n",
    "def foo2(x,time):\n",
    "    return x/time"
   ]
  },
  {
   "cell_type": "code",
   "execution_count": null,
   "id": "309779d8-ccd3-4c04-a93d-db44402f4b54",
   "metadata": {
    "tags": []
   },
   "outputs": [],
   "source": [
    "foo2(x,time)"
   ]
  },
  {
   "cell_type": "code",
   "execution_count": null,
   "id": "f14b9c54-5036-4e0f-81f6-408a76ccecfe",
   "metadata": {
    "tags": []
   },
   "outputs": [],
   "source": [
    "foo2(time,x)"
   ]
  },
  {
   "cell_type": "markdown",
   "id": "980c1350-a987-4afc-92b9-7c135b512c7d",
   "metadata": {},
   "source": [
    "The docstring for [`@validate_quantities`](https://docs.plasmapy.org/en/latest/api/plasmapy.utils.decorators.validators.validate_quantities.html#validate-quantities) contains examples for several more validations that it can do, such as:\n",
    "\n",
    " - Allowing only non-negative values\n",
    " - Restricting/allowing `complex` values\n",
    " - Restricting/allowing `numpy.nan` values \n",
    " - Allowing `None` instead of a `Quantity`"
   ]
  },
  {
   "cell_type": "code",
   "execution_count": null,
   "id": "a7dfcda5-dd47-4955-a425-d108ab48cf3d",
   "metadata": {},
   "outputs": [],
   "source": []
  }
 ],
 "metadata": {
  "kernelspec": {
   "display_name": "Python 3 (ipykernel)",
   "language": "python",
   "name": "python3"
  },
  "language_info": {
   "codemirror_mode": {
    "name": "ipython",
    "version": 3
   },
   "file_extension": ".py",
   "mimetype": "text/x-python",
   "name": "python",
   "nbconvert_exporter": "python",
   "pygments_lexer": "ipython3",
   "version": "3.11.4"
  }
 },
 "nbformat": 4,
 "nbformat_minor": 5
}
