{
 "cells": [
  {
   "cell_type": "markdown",
   "id": "a5bd8ac2-3f05-44b6-a842-3e43bee447be",
   "metadata": {},
   "source": [
    "# Tutorial 04 - Writing Scientific Functions\n",
    "\n",
    "In this tutorial, we will explore the elements of a well-written scientific function."
   ]
  },
  {
   "cell_type": "markdown",
   "id": "0ba362cb-832c-4998-9a85-3260d02d0313",
   "metadata": {},
   "source": [
    "First, we'll import our usual packages."
   ]
  },
  {
   "cell_type": "code",
   "execution_count": 2,
   "id": "fa0f88fe-2cf8-4971-b11d-6f13f709e637",
   "metadata": {
    "tags": []
   },
   "outputs": [],
   "source": [
    "import astropy.units as u\n",
    "from astropy.visualization import quantity_support\n",
    "from astropy import constants\n",
    "import matplotlib.pyplot as plt\n",
    "import numpy as np"
   ]
  },
  {
   "cell_type": "markdown",
   "id": "6341be06-275b-4a10-afa1-581cc25010fb",
   "metadata": {},
   "source": [
    "We will also import something from a new module called `plasmapy`. This new something is called a decorator, and in this case, the decorator is called `validate_quantities`"
   ]
  },
  {
   "cell_type": "code",
   "execution_count": 4,
   "id": "73dcdc77-d25d-4bba-8ec4-4c2beaad22fb",
   "metadata": {
    "tags": []
   },
   "outputs": [],
   "source": [
    "from plasmapy.utils.decorators import validate_quantities"
   ]
  },
  {
   "cell_type": "code",
   "execution_count": 24,
   "id": "e55a2380-42b6-41bb-8621-49547279cf71",
   "metadata": {
    "tags": []
   },
   "outputs": [],
   "source": [
    "@validate_quantities\n",
    "def foo(x: u.Quantity[u.m], time: u.Quantity[u.s]) -> u.Quantity[u.m / u.s]:\n",
    "    return x / time"
   ]
  },
  {
   "cell_type": "code",
   "execution_count": 26,
   "id": "2d3feb38-7bd8-48b1-bf79-690bf91b26ef",
   "metadata": {
    "tags": []
   },
   "outputs": [],
   "source": [
    "x=60*u.m"
   ]
  },
  {
   "cell_type": "code",
   "execution_count": 28,
   "id": "1a763198-56be-4128-9bc1-92f16ed1922e",
   "metadata": {
    "tags": []
   },
   "outputs": [],
   "source": [
    "time=30*u.s"
   ]
  },
  {
   "cell_type": "code",
   "execution_count": 30,
   "id": "2dcd4b80-0770-4ee3-baef-59cf8b97d1e4",
   "metadata": {
    "tags": []
   },
   "outputs": [],
   "source": [
    "acc=10*u.m/u.s**2"
   ]
  },
  {
   "cell_type": "code",
   "execution_count": 32,
   "id": "f972c8b0-2ca6-49db-b9c9-3d26529dbc9c",
   "metadata": {
    "tags": []
   },
   "outputs": [
    {
     "name": "stdout",
     "output_type": "stream",
     "text": [
      "10.0 m / s2\n"
     ]
    }
   ],
   "source": [
    "print(acc)"
   ]
  },
  {
   "cell_type": "code",
   "execution_count": 34,
   "id": "d335e205-7553-4f3f-b3a5-3e8708b0ab47",
   "metadata": {
    "tags": []
   },
   "outputs": [],
   "source": [
    "y = foo(x,time)"
   ]
  },
  {
   "cell_type": "code",
   "execution_count": 36,
   "id": "c7beb11d-bd69-4148-a979-200923455cee",
   "metadata": {
    "tags": []
   },
   "outputs": [
    {
     "name": "stdout",
     "output_type": "stream",
     "text": [
      "2.0 m / s\n"
     ]
    }
   ],
   "source": [
    "print(y)"
   ]
  },
  {
   "cell_type": "code",
   "execution_count": 38,
   "id": "fdeea990-d05a-4c32-a14b-488dd6c0020e",
   "metadata": {
    "tags": []
   },
   "outputs": [
    {
     "ename": "UnitTypeError",
     "evalue": "The argument 'x' to function foo() should be an astropy Quantity with the following unit: m",
     "output_type": "error",
     "traceback": [
      "\u001b[0;31m---------------------------------------------------------------------------\u001b[0m",
      "\u001b[0;31mUnitTypeError\u001b[0m                             Traceback (most recent call last)",
      "Cell \u001b[0;32mIn[38], line 1\u001b[0m\n\u001b[0;32m----> 1\u001b[0m foo(time,x)\n",
      "File \u001b[0;32m~/enter/lib/python3.12/site-packages/plasmapy/utils/decorators/validators.py:199\u001b[0m, in \u001b[0;36mValidateQuantities.__call__.<locals>.wrapper\u001b[0;34m(*args, **kwargs)\u001b[0m\n\u001b[1;32m    196\u001b[0m         \u001b[38;5;28;01mcontinue\u001b[39;00m\n\u001b[1;32m    198\u001b[0m     \u001b[38;5;66;03m# validate argument & update for conversion\u001b[39;00m\n\u001b[0;32m--> 199\u001b[0m     arg \u001b[38;5;241m=\u001b[39m \u001b[38;5;28mself\u001b[39m\u001b[38;5;241m.\u001b[39m_validate_quantity(\n\u001b[1;32m    200\u001b[0m         bound_args\u001b[38;5;241m.\u001b[39marguments[arg_name], arg_name, validations[arg_name]\n\u001b[1;32m    201\u001b[0m     )\n\u001b[1;32m    202\u001b[0m     bound_args\u001b[38;5;241m.\u001b[39marguments[arg_name] \u001b[38;5;241m=\u001b[39m arg\n\u001b[1;32m    204\u001b[0m \u001b[38;5;66;03m# call function\u001b[39;00m\n",
      "File \u001b[0;32m~/enter/lib/python3.12/site-packages/plasmapy/utils/decorators/validators.py:376\u001b[0m, in \u001b[0;36mValidateQuantities._validate_quantity\u001b[0;34m(self, arg, arg_name, arg_validations)\u001b[0m\n\u001b[1;32m    374\u001b[0m     arg \u001b[38;5;241m=\u001b[39m arg\u001b[38;5;241m.\u001b[39mto(unit, equivalencies\u001b[38;5;241m=\u001b[39mequiv)\n\u001b[1;32m    375\u001b[0m \u001b[38;5;28;01melif\u001b[39;00m err \u001b[38;5;129;01mis\u001b[39;00m \u001b[38;5;129;01mnot\u001b[39;00m \u001b[38;5;28;01mNone\u001b[39;00m:\n\u001b[0;32m--> 376\u001b[0m     \u001b[38;5;28;01mraise\u001b[39;00m err\n\u001b[1;32m    378\u001b[0m \u001b[38;5;28mself\u001b[39m\u001b[38;5;241m.\u001b[39m_check_value(arg, arg_name, arg_validations)\n\u001b[1;32m    380\u001b[0m \u001b[38;5;28;01mreturn\u001b[39;00m arg\n",
      "\u001b[0;31mUnitTypeError\u001b[0m: The argument 'x' to function foo() should be an astropy Quantity with the following unit: m"
     ]
    }
   ],
   "source": [
    "foo(time,x)"
   ]
  },
  {
   "cell_type": "code",
   "execution_count": 22,
   "id": "95289371-631c-4a02-a0c2-6efc0f64c122",
   "metadata": {
    "tags": []
   },
   "outputs": [
    {
     "data": {
      "text/latex": [
       "$2 \\; \\mathrm{\\frac{m}{s}}$"
      ],
      "text/plain": [
       "<Quantity 2. m / s>"
      ]
     },
     "execution_count": 22,
     "metadata": {},
     "output_type": "execute_result"
    }
   ],
   "source": [
    "foo(x,time)"
   ]
  },
  {
   "cell_type": "code",
   "execution_count": null,
   "id": "6fd81a30-534b-4262-8af1-d6c8acdc43c4",
   "metadata": {},
   "outputs": [],
   "source": []
  }
 ],
 "metadata": {
  "kernelspec": {
   "display_name": "Python [conda env:base] *",
   "language": "python",
   "name": "conda-base-py"
  },
  "language_info": {
   "codemirror_mode": {
    "name": "ipython",
    "version": 3
   },
   "file_extension": ".py",
   "mimetype": "text/x-python",
   "name": "python",
   "nbconvert_exporter": "python",
   "pygments_lexer": "ipython3",
   "version": "3.12.7"
  }
 },
 "nbformat": 4,
 "nbformat_minor": 5
}
