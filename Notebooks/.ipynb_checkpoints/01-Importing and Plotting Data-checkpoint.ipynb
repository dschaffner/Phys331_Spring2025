{
 "cells": [
  {
   "cell_type": "markdown",
   "id": "6352502a-bb0c-47df-88cb-d63833547940",
   "metadata": {},
   "source": [
    "# Tutorial 01 - Importing and Plotting Data\n",
    "\n",
    "In this tutorial, we will go through importing a dataset that is generated in Excel (or converted into Excel from Google Sheets) and plot it using matplotlib.\n",
    "\n",
    "This tutorial assumes you know some basic Python commands. If you need a review, there are lots of tutorials out there including the one used by Phys 206 which can be accessed directly through JupyterHub (see instructor on how)"
   ]
  },
  {
   "cell_type": "markdown",
   "id": "a1b5d939-9d8c-4081-a9af-96ef09c43e4a",
   "metadata": {},
   "source": [
    "First, download the sample Excel data file from Moodle. Then, upload it to JupyterHub using the import button at the top of the left-hand column. Make sure the Excel file is at the same directory level as this tutorial. Take a look at the data file in Excel. It has three columns: the first column is the x-axis and the second two columns are calculations based on the first column. There is one row that serves as the header labeling the columns. This row is skipped by putting in the command `header=1` ."
   ]
  },
  {
   "cell_type": "markdown",
   "id": "4a95f983-1c71-4c73-9ccf-b271ddbfb9ae",
   "metadata": {},
   "source": [
    "Then run the following code. To run code on Jupyter Notebook, you need to press Shift+Enter or you can press the play button above when the code cell is higlighted"
   ]
  },
  {
   "cell_type": "code",
   "execution_count": 1,
   "id": "683706bf-a341-4edf-83fd-d25dec5cafe8",
   "metadata": {},
   "outputs": [],
   "source": [
    "import numpy as np\n",
    "import pandas as pd\n",
    "\n",
    "file_directory = ''\n",
    "excel_file = 'sample_data_331.xlsx'\n",
    "readin_sheet = pd.read_excel(file_directory+excel_file,header=1)\n",
    "x_array = np.array(readin_sheet['x'])\n",
    "y1_array = np.array(readin_sheet['y1'])\n",
    "y2_array = np.array(readin_sheet['y2'])"
   ]
  },
  {
   "cell_type": "markdown",
   "id": "700c0272-ffb8-483e-8b2a-eec3848b5722",
   "metadata": {},
   "source": [
    "Make sure the arrays have been imported properly by typing the name of an array or arrays in the cell below and pressing Shift+Enter. You can list multiple arrays simutaneously by pressing Enter (not Shift+Enter) to create a new line in the code block."
   ]
  },
  {
   "cell_type": "code",
   "execution_count": null,
   "id": "f1d5461c-efcb-4652-9934-5cb0523eb257",
   "metadata": {},
   "outputs": [],
   "source": []
  },
  {
   "cell_type": "markdown",
   "id": "2769b48d-19cf-4721-8070-a3f9ed43a619",
   "metadata": {},
   "source": [
    "Next we will work on making plots of the data that has now been imported into arrays in Python. First import `matplotlib.pylab` using the alias `plt` in the following code block."
   ]
  },
  {
   "cell_type": "code",
   "execution_count": null,
   "id": "26ce35ba-290c-468b-aefa-f5d4340f0ad3",
   "metadata": {},
   "outputs": [],
   "source": []
  },
  {
   "cell_type": "markdown",
   "id": "ca3f1d43-fe8c-415a-94b8-6f815a52a6d4",
   "metadata": {},
   "source": [
    "Typically we import all the needed modules at the beginning of script rather than in the middle, but for tutorial purposes, we'll import modules as we need them. We'll first do the very simplest plot possible. Run the following code block:"
   ]
  },
  {
   "cell_type": "code",
   "execution_count": null,
   "id": "858ad0a1-bf62-48a4-ba90-53a16886201c",
   "metadata": {},
   "outputs": [],
   "source": [
    "plt.plot(x_array,y1_array)\n",
    "plt.plot(x_array,y2_array)"
   ]
  },
  {
   "cell_type": "markdown",
   "id": "ab6dc796-d9bf-48af-aaa8-4614e35c7088",
   "metadata": {},
   "source": [
    "This plot has no labels, legends, markers, or indications of any time. It is terrible plot. Let's unterriable it. Let's say the x-axis is time and the y-axis is distance. The blue curve represents Car 1 and the orange curve represents Car 2. We'll add axis labels and a legend, as well as modify the size of the both the labels. Let's also zoom in on the region 0 to 60 and add a overall title."
   ]
  },
  {
   "cell_type": "code",
   "execution_count": null,
   "id": "f2d39ff6-15bc-49a3-8bc5-2489944c5f3d",
   "metadata": {},
   "outputs": [],
   "source": [
    "plt.plot(x_array,y1_array,label='Car 1')\n",
    "plt.plot(x_array,y2_array,label='Car 2')\n",
    "plt.title('Phys 331 01 Tutorial Sample Plot',fontsize=22)\n",
    "plt.xlabel('Time [s]',fontsize=24)\n",
    "plt.ylabel('Distance [m]',fontsize=24)\n",
    "plt.xticks(fontsize=16)\n",
    "plt.yticks(fontsize=16)\n",
    "plt.xlim(0,60)\n",
    "plt.legend()"
   ]
  },
  {
   "cell_type": "markdown",
   "id": "82e85ea1-6131-4d20-b189-69860163f91f",
   "metadata": {},
   "source": [
    "Much better. Note that larger readable labels and numbers. Your work will be frowned upon if I need to squint to see your labels. We should save this beautiful plot so that we can download it and then upload to your electronic notebook on OneNote. Run the following code to remake the plot and then save a .png to your main folder."
   ]
  },
  {
   "cell_type": "code",
   "execution_count": null,
   "id": "54b59a06-945d-4363-b87b-196bd7aa14ba",
   "metadata": {},
   "outputs": [],
   "source": [
    "plt.plot(x_array,y1_array,label='Car 1')\n",
    "plt.plot(x_array,y2_array,label='Car 2')\n",
    "plt.title('Phys 331 01 Tutorial Sample Plot',fontsize=22)\n",
    "plt.xlabel('Time [s]',fontsize=24)\n",
    "plt.ylabel('Distance [m]',fontsize=24)\n",
    "plt.xticks(fontsize=16)\n",
    "plt.yticks(fontsize=16)\n",
    "plt.xlim(0,60)\n",
    "plt.legend()\n",
    "savefile = 'Figure1_distance_vs_time.png'\n",
    "plt.savefig(savefile, dpi=300, facecolor='white', edgecolor='black',bbox_inches='tight')"
   ]
  },
  {
   "cell_type": "markdown",
   "id": "2023ce14-6f79-415e-8300-f2c571fa7e86",
   "metadata": {},
   "source": [
    "There are a lot of other formatting options and you should take time to explore it using The Google. Here's a useful link I found: https://github.com/mpolinowski/python-matplotlib-2023?tab=readme-ov-file#matplotlib-pyplot-cheat-sheet-2023\n",
    "\n",
    "For the final challenge, you must update the above plot with the following features:\n",
    "+ Diamond markers for each value of y1\n",
    "+ Circle markers for each value of y2\n",
    "+ A legend in the upper LEFT side without a bounding box\n",
    "+ A vertical line at y=10\n",
    "+ A horizontal line at x=50\n",
    "\n",
    "Then, save it and upload your result to OneNote."
   ]
  }
 ],
 "metadata": {
  "kernelspec": {
   "display_name": "Python 3 (ipykernel)",
   "language": "python",
   "name": "python3"
  },
  "language_info": {
   "codemirror_mode": {
    "name": "ipython",
    "version": 3
   },
   "file_extension": ".py",
   "mimetype": "text/x-python",
   "name": "python",
   "nbconvert_exporter": "python",
   "pygments_lexer": "ipython3",
   "version": "3.11.4"
  }
 },
 "nbformat": 4,
 "nbformat_minor": 5
}
