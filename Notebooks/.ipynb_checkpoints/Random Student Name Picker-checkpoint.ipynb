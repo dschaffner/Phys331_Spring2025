{
 "cells": [
  {
   "cell_type": "raw",
   "id": "3b497a16",
   "metadata": {},
   "source": [
    "# Random Student Name Picker\n",
    "\n",
    "Press the green \"Pick a Student\" button to randomly choose a Phys 331 Spring 2025 Student!"
   ]
  },
  {
   "cell_type": "code",
   "execution_count": 3,
   "id": "4a6ba2b7",
   "metadata": {},
   "outputs": [],
   "source": [
    "import ipywidgets as widgets\n",
    "from numpy.random import choice"
   ]
  },
  {
   "cell_type": "code",
   "execution_count": 4,
   "id": "24c63e02",
   "metadata": {},
   "outputs": [],
   "source": [
    "students=['Mayleen','Anvita','Louis','Jess','Catie','Julia',\n",
    "          'Sophie','Ella','Keya','Madeline','Angelina','Oops...try again']"
   ]
  },
  {
   "cell_type": "code",
   "execution_count": 7,
   "id": "b4def839",
   "metadata": {},
   "outputs": [
    {
     "data": {
      "application/vnd.jupyter.widget-view+json": {
       "model_id": "e0a3a4ad212248ca96f4a29d299a37f7",
       "version_major": 2,
       "version_minor": 0
      },
      "text/plain": [
       "ToggleButton(value=False, button_style='success', description='Pick a student', icon='check', tooltip='Descrip…"
      ]
     },
     "metadata": {},
     "output_type": "display_data"
    },
    {
     "data": {
      "application/vnd.jupyter.widget-view+json": {
       "model_id": "d33f034bc61f4824a67456b44472c5d6",
       "version_major": 2,
       "version_minor": 0
      },
      "text/plain": [
       "Output(layout=Layout(border_bottom='1px solid black', border_left='1px solid black', border_right='1px solid b…"
      ]
     },
     "metadata": {},
     "output_type": "display_data"
    }
   ],
   "source": [
    "toggle=widgets.ToggleButton(\n",
    "        value=False,\n",
    "        description='Pick a student',\n",
    "        disabled=False,\n",
    "        button_style='success', # 'success', 'info', 'warning', 'danger' or ''\n",
    "        tooltip='Description',\n",
    "        icon='check' # (FontAwesome names without the `fa-` prefix)\n",
    ")\n",
    "\n",
    "out = widgets.Output(layout=widgets.Layout(border = '1px solid black'))\n",
    "\n",
    "def choose(obj):\n",
    "    with out:\n",
    "        if obj['new']:  \n",
    "            display(choice(students))\n",
    "        else:\n",
    "            out.clear_output()\n",
    "toggle.observe(choose,'value')\n",
    "display(toggle)\n",
    "display(out)"
   ]
  }
 ],
 "metadata": {
  "kernelspec": {
   "display_name": "Python 3 (ipykernel)",
   "language": "python",
   "name": "python3"
  },
  "language_info": {
   "codemirror_mode": {
    "name": "ipython",
    "version": 3
   },
   "file_extension": ".py",
   "mimetype": "text/x-python",
   "name": "python",
   "nbconvert_exporter": "python",
   "pygments_lexer": "ipython3",
   "version": "3.11.4"
  }
 },
 "nbformat": 4,
 "nbformat_minor": 5
}
