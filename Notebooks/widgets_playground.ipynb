{
 "cells": [
  {
   "cell_type": "code",
   "execution_count": 1,
   "id": "3ad533cd-0650-42b5-97a6-44e601885e3e",
   "metadata": {
    "tags": []
   },
   "outputs": [],
   "source": [
    "import ipywidgets as widgets"
   ]
  },
  {
   "cell_type": "code",
   "execution_count": 2,
   "id": "73277c90-a1ba-49af-97d8-701dcc90b19b",
   "metadata": {
    "tags": []
   },
   "outputs": [],
   "source": [
    "from ipywidgets import interact, interactive, fixed, interact_manual\n",
    "import ipywidgets as widgets\n",
    "import matplotlib.pylab as plt\n",
    "import numpy as np"
   ]
  },
  {
   "cell_type": "code",
   "execution_count": 3,
   "id": "4dba7545-9afa-49c7-8987-00e587a4200f",
   "metadata": {
    "tags": []
   },
   "outputs": [
    {
     "data": {
      "application/vnd.jupyter.widget-view+json": {
       "model_id": "2e9976cc341b47baaede16433db69e53",
       "version_major": 2,
       "version_minor": 0
      },
      "text/plain": [
       "IntSlider(value=7, continuous_update=False, description='Test:', max=10)"
      ]
     },
     "execution_count": 3,
     "metadata": {},
     "output_type": "execute_result"
    }
   ],
   "source": [
    "widgets.IntSlider(\n",
    "    value=7,\n",
    "    min=0,\n",
    "    max=10,\n",
    "    step=1,\n",
    "    description='Test:',\n",
    "    disabled=False,\n",
    "    continuous_update=False,\n",
    "    orientation='horizontal',\n",
    "    readout=True,\n",
    "    readout_format='d'\n",
    ")"
   ]
  },
  {
   "cell_type": "code",
   "execution_count": 4,
   "id": "a98a1837-3d5e-4211-8d34-6f65a671216b",
   "metadata": {
    "tags": []
   },
   "outputs": [],
   "source": [
    "from IPython.display import display\n",
    "def f(a, b):\n",
    "    display(a + b)\n",
    "    return a+b"
   ]
  },
  {
   "cell_type": "code",
   "execution_count": 5,
   "id": "74f60cef-ff66-49c9-a33d-228d823704f8",
   "metadata": {
    "tags": []
   },
   "outputs": [],
   "source": [
    "w = interactive(f, a=10, b=20)"
   ]
  },
  {
   "cell_type": "code",
   "execution_count": 6,
   "id": "5d6cafd8-d95c-48d2-9b01-f6a2fecf0c6b",
   "metadata": {
    "tags": []
   },
   "outputs": [],
   "source": [
    "def f(x,y):\n",
    "    return x+y"
   ]
  },
  {
   "cell_type": "code",
   "execution_count": 7,
   "id": "71ba3f33-6144-4c26-8a1d-1286d08dba12",
   "metadata": {
    "tags": []
   },
   "outputs": [
    {
     "data": {
      "application/vnd.jupyter.widget-view+json": {
       "model_id": "9d9c36706dee4017bae636246804c538",
       "version_major": 2,
       "version_minor": 0
      },
      "text/plain": [
       "interactive(children=(IntSlider(value=10, description='x', max=30, min=-10), IntSlider(value=10, description='…"
      ]
     },
     "metadata": {},
     "output_type": "display_data"
    }
   ],
   "source": [
    "interact(f, x=10, y=10);"
   ]
  },
  {
   "cell_type": "code",
   "execution_count": 8,
   "id": "36117ec8-0f6e-4f12-8681-0c96b3d4705b",
   "metadata": {
    "tags": []
   },
   "outputs": [],
   "source": [
    "def g(a):\n",
    "    x=np.arange(100)\n",
    "    y=a*x\n",
    "    plt.plot(x,y)\n",
    "    plt.xlim(0,100)\n",
    "    plt.ylim(0,600)\n",
    "    return"
   ]
  },
  {
   "cell_type": "code",
   "execution_count": 9,
   "id": "d5a5e355-9dd2-4fcd-bfd0-5297f46cd15c",
   "metadata": {
    "tags": []
   },
   "outputs": [
    {
     "data": {
      "application/vnd.jupyter.widget-view+json": {
       "model_id": "33038995dcf74974b99e43050d096129",
       "version_major": 2,
       "version_minor": 0
      },
      "text/plain": [
       "interactive(children=(IntSlider(value=2, description='a', max=6, min=-2), Output()), _dom_classes=('widget-int…"
      ]
     },
     "metadata": {},
     "output_type": "display_data"
    }
   ],
   "source": [
    "interact(g, a=2);"
   ]
  },
  {
   "cell_type": "code",
   "execution_count": 20,
   "id": "dd46d2de-cc49-4ff6-b5c2-14adad7a2803",
   "metadata": {},
   "outputs": [],
   "source": [
    "import astropy.constants as constants\n",
    "import astropy.units as u\n",
    "from plasmapy.formulary.lengths import Debye_length\n",
    "\n",
    "from plasmapy.utils.decorators import validate_quantities\n",
    "@validate_quantities\n",
    "def sheath_voltage(x: u.Quantity[u.m], temperature: u.Quantity[u.K],density: u.Quantity[u.m**-3])->u.Quantity[u.V]:\n",
    "    lambda_d = Debye_length(temperature,density)\n",
    "    V = 1*u.V*np.exp(-np.abs(x)/lambda_d)\n",
    "    print(lambda_d)\n",
    "    return V\n",
    "\n",
    "#eps0 = constants.eps0\n",
    "#q = 1.6021766e-19*u.C\n",
    "#q = 1.6021766e−19*u.C\n",
    "#k_B = constants.k_B\n",
    "#@validate_quantities\n",
    "#def V(x: u.Quantity[u.m],density: u.Quantity[u.m**-3],temperature: u.Quantity[u.K])->u.Quantity[u.V]:\n",
    "#    lambda_d = np.sqrt(eps0*k_B*temperature/(density*q**2))\n",
    "#    print(lambda_d)\n",
    "#    V = 1*u.V*np.exp(-np.abs(x)/lambda_d)\n",
    "#    print(V)\n",
    "#    return V"
   ]
  },
  {
   "cell_type": "code",
   "execution_count": 23,
   "id": "f8904b0f",
   "metadata": {},
   "outputs": [
    {
     "name": "stdout",
     "output_type": "stream",
     "text": [
      "0.0021822555794732247 m\n"
     ]
    },
    {
     "data": {
      "text/plain": [
       "[<matplotlib.lines.Line2D at 0x1bcca42aa20>]"
      ]
     },
     "execution_count": 23,
     "metadata": {},
     "output_type": "execute_result"
    },
    {
     "data": {
      "image/png": "[encoded data removed]",
      "text/plain": [
       "<Figure size 640x480 with 1 Axes>"
      ]
     },
     "metadata": {},
     "output_type": "display_data"
    }
   ],
   "source": [
    "x = np.linspace(-0.1,0.1,100)\n",
    "y=sheath_voltage(x*u.m,5e6 * u.K, 5e15 * u.m**-3)\n",
    "plt.plot(x,y)"
   ]
  },
  {
   "cell_type": "code",
   "execution_count": 47,
   "id": "1237f4a2",
   "metadata": {},
   "outputs": [],
   "source": [
    "def h(a):\n",
    "    x = np.linspace(-0.1,0.1,100)*u.m\n",
    "    V(x,a,1*u.K)\n",
    "    plt.plot(x,V)\n",
    "    #plt.xlim(0,100)\n",
    "    #plt.ylim(0,600)\n",
    "    return"
   ]
  },
  {
   "cell_type": "code",
   "execution_count": 48,
   "id": "171bca8c",
   "metadata": {},
   "outputs": [
    {
     "name": "stdout",
     "output_type": "stream",
     "text": [
      "1.2525970742624187e-36 C m F(1/2) J(1/2)\n"
     ]
    },
    {
     "ename": "UnitTypeError",
     "evalue": "Can only apply 'exp' function to dimensionless quantities",
     "output_type": "error",
     "traceback": [
      "\u001b[31m---------------------------------------------------------------------------\u001b[39m",
      "\u001b[31mUnitConversionError\u001b[39m                       Traceback (most recent call last)",
      "\u001b[36mFile \u001b[39m\u001b[32m~\\AppData\\Local\\anaconda3\\envs\\jupyterlab\\Lib\\site-packages\\astropy\\units\\quantity_helper\\helpers.py:165\u001b[39m, in \u001b[36mhelper_dimensionless_to_dimensionless\u001b[39m\u001b[34m(f, unit)\u001b[39m\n\u001b[32m    164\u001b[39m \u001b[38;5;28;01mtry\u001b[39;00m:\n\u001b[32m--> \u001b[39m\u001b[32m165\u001b[39m     \u001b[38;5;28;01mreturn\u001b[39;00m ([get_converter(unit, dimensionless_unscaled)], dimensionless_unscaled)\n\u001b[32m    166\u001b[39m \u001b[38;5;28;01mexcept\u001b[39;00m UnitsError:\n",
      "\u001b[36mFile \u001b[39m\u001b[32m~\\AppData\\Local\\anaconda3\\envs\\jupyterlab\\Lib\\site-packages\\astropy\\units\\quantity_helper\\helpers.py:43\u001b[39m, in \u001b[36mget_converter\u001b[39m\u001b[34m(from_unit, to_unit)\u001b[39m\n\u001b[32m     42\u001b[39m \u001b[38;5;28;01mtry\u001b[39;00m:\n\u001b[32m---> \u001b[39m\u001b[32m43\u001b[39m     converter = from_unit.get_converter(to_unit)\n\u001b[32m     44\u001b[39m \u001b[38;5;28;01mexcept\u001b[39;00m \u001b[38;5;167;01mAttributeError\u001b[39;00m \u001b[38;5;28;01mas\u001b[39;00m exc:\n\u001b[32m     45\u001b[39m     \u001b[38;5;66;03m# Check for lack of unit only now, to avoid delay for cases where a unit\u001b[39;00m\n\u001b[32m     46\u001b[39m     \u001b[38;5;66;03m# was present. Note that cases where dimensionless is expected are\u001b[39;00m\n\u001b[32m     47\u001b[39m     \u001b[38;5;66;03m# already short-circuited; here, we cover just the case where, e.g., the\u001b[39;00m\n\u001b[32m     48\u001b[39m     \u001b[38;5;66;03m# user has done u.add_enabled_equivalencies(u.dimensionless_angles()).\u001b[39;00m\n",
      "\u001b[36mFile \u001b[39m\u001b[32m~\\AppData\\Local\\anaconda3\\envs\\jupyterlab\\Lib\\site-packages\\astropy\\units\\core.py:1137\u001b[39m, in \u001b[36mUnitBase.get_converter\u001b[39m\u001b[34m(self, other, equivalencies)\u001b[39m\n\u001b[32m   1135\u001b[39m                 \u001b[38;5;28;01mreturn\u001b[39;00m \u001b[38;5;28;01mlambda\u001b[39;00m v: b(converter(v))\n\u001b[32m-> \u001b[39m\u001b[32m1137\u001b[39m \u001b[38;5;28;01mraise\u001b[39;00m exc\n",
      "\u001b[36mFile \u001b[39m\u001b[32m~\\AppData\\Local\\anaconda3\\envs\\jupyterlab\\Lib\\site-packages\\astropy\\units\\core.py:1120\u001b[39m, in \u001b[36mUnitBase.get_converter\u001b[39m\u001b[34m(self, other, equivalencies)\u001b[39m\n\u001b[32m   1119\u001b[39m \u001b[38;5;28;01mtry\u001b[39;00m:\n\u001b[32m-> \u001b[39m\u001b[32m1120\u001b[39m     \u001b[38;5;28;01mreturn\u001b[39;00m \u001b[38;5;28mself\u001b[39m._apply_equivalencies(\n\u001b[32m   1121\u001b[39m         \u001b[38;5;28mself\u001b[39m, other, \u001b[38;5;28mself\u001b[39m._normalize_equivalencies(equivalencies)\n\u001b[32m   1122\u001b[39m     )\n\u001b[32m   1123\u001b[39m \u001b[38;5;28;01mexcept\u001b[39;00m UnitsError \u001b[38;5;28;01mas\u001b[39;00m exc:\n\u001b[32m   1124\u001b[39m     \u001b[38;5;66;03m# Last hope: maybe other knows how to do it?\u001b[39;00m\n\u001b[32m   1125\u001b[39m     \u001b[38;5;66;03m# We assume the equivalencies have the unit itself as first item.\u001b[39;00m\n\u001b[32m   1126\u001b[39m     \u001b[38;5;66;03m# TODO: maybe better for other to have a `_back_converter` method?\u001b[39;00m\n",
      "\u001b[36mFile \u001b[39m\u001b[32m~\\AppData\\Local\\anaconda3\\envs\\jupyterlab\\Lib\\site-packages\\astropy\\units\\core.py:1071\u001b[39m, in \u001b[36mUnitBase._apply_equivalencies\u001b[39m\u001b[34m(self, unit, other, equivalencies)\u001b[39m\n\u001b[32m   1069\u001b[39m other_str = get_err_str(other)\n\u001b[32m-> \u001b[39m\u001b[32m1071\u001b[39m \u001b[38;5;28;01mraise\u001b[39;00m UnitConversionError(\u001b[33mf\u001b[39m\u001b[33m\"\u001b[39m\u001b[38;5;132;01m{\u001b[39;00munit_str\u001b[38;5;132;01m}\u001b[39;00m\u001b[33m and \u001b[39m\u001b[38;5;132;01m{\u001b[39;00mother_str\u001b[38;5;132;01m}\u001b[39;00m\u001b[33m are not convertible\u001b[39m\u001b[33m\"\u001b[39m)\n",
      "\u001b[31mUnitConversionError\u001b[39m: '1 / (F(1/2) J(1/2) C)' and '' (dimensionless) are not convertible",
      "\nDuring handling of the above exception, another exception occurred:\n",
      "\u001b[31mUnitTypeError\u001b[39m                             Traceback (most recent call last)",
      "\u001b[36mCell\u001b[39m\u001b[36m \u001b[39m\u001b[32mIn[48]\u001b[39m\u001b[32m, line 1\u001b[39m\n\u001b[32m----> \u001b[39m\u001b[32m1\u001b[39m h(\u001b[32m2\u001b[39m*u.m**-\u001b[32m3\u001b[39m)\n",
      "\u001b[36mCell\u001b[39m\u001b[36m \u001b[39m\u001b[32mIn[47]\u001b[39m\u001b[32m, line 3\u001b[39m, in \u001b[36mh\u001b[39m\u001b[34m(a)\u001b[39m\n\u001b[32m      1\u001b[39m \u001b[38;5;28;01mdef\u001b[39;00m\u001b[38;5;250m \u001b[39m\u001b[34mh\u001b[39m(a):\n\u001b[32m      2\u001b[39m     x=np.arange(\u001b[32m100\u001b[39m)*u.m\n\u001b[32m----> \u001b[39m\u001b[32m3\u001b[39m     V(x,a,\u001b[32m1\u001b[39m*u.K)\n\u001b[32m      4\u001b[39m     plt.plot(x,V)\n\u001b[32m      5\u001b[39m     \u001b[38;5;66;03m#plt.xlim(0,100)\u001b[39;00m\n\u001b[32m      6\u001b[39m     \u001b[38;5;66;03m#plt.ylim(0,600)\u001b[39;00m\n",
      "\u001b[36mFile \u001b[39m\u001b[32m~\\AppData\\Roaming\\Python\\Python311\\site-packages\\plasmapy\\utils\\decorators\\validators.py:206\u001b[39m, in \u001b[36mValidateQuantities.__call__.<locals>.wrapper\u001b[39m\u001b[34m(*args, **kwargs)\u001b[39m\n\u001b[32m    203\u001b[39m     bound_args.arguments[arg_name] = arg\n\u001b[32m    205\u001b[39m \u001b[38;5;66;03m# call function\u001b[39;00m\n\u001b[32m--> \u001b[39m\u001b[32m206\u001b[39m _return = f(**bound_args.arguments)\n\u001b[32m    208\u001b[39m \u001b[38;5;66;03m# validate output\u001b[39;00m\n\u001b[32m    209\u001b[39m \u001b[38;5;28;01mif\u001b[39;00m \u001b[33m\"\u001b[39m\u001b[33mvalidations_on_return\u001b[39m\u001b[33m\"\u001b[39m \u001b[38;5;129;01min\u001b[39;00m validations:\n",
      "\u001b[36mCell\u001b[39m\u001b[36m \u001b[39m\u001b[32mIn[46]\u001b[39m\u001b[32m, line 12\u001b[39m, in \u001b[36mV\u001b[39m\u001b[34m(x, density, temperature)\u001b[39m\n\u001b[32m     10\u001b[39m lambda_d = np.sqrt(eps0*k_B*temperature/density*q**\u001b[32m2\u001b[39m)\n\u001b[32m     11\u001b[39m \u001b[38;5;28mprint\u001b[39m(lambda_d)\n\u001b[32m---> \u001b[39m\u001b[32m12\u001b[39m V = np.exp(-np.abs(x)/lambda_d)\n\u001b[32m     13\u001b[39m \u001b[38;5;28;01mreturn\u001b[39;00m V\n",
      "\u001b[36mFile \u001b[39m\u001b[32m~\\AppData\\Local\\anaconda3\\envs\\jupyterlab\\Lib\\site-packages\\astropy\\units\\quantity.py:684\u001b[39m, in \u001b[36mQuantity.__array_ufunc__\u001b[39m\u001b[34m(self, function, method, *inputs, **kwargs)\u001b[39m\n\u001b[32m    682\u001b[39m     \u001b[38;5;28;01mreturn\u001b[39;00m \u001b[38;5;28mNotImplemented\u001b[39m\n\u001b[32m    683\u001b[39m \u001b[38;5;28;01melse\u001b[39;00m:\n\u001b[32m--> \u001b[39m\u001b[32m684\u001b[39m     \u001b[38;5;28;01mraise\u001b[39;00m e\n",
      "\u001b[36mFile \u001b[39m\u001b[32m~\\AppData\\Local\\anaconda3\\envs\\jupyterlab\\Lib\\site-packages\\astropy\\units\\quantity.py:629\u001b[39m, in \u001b[36mQuantity.__array_ufunc__\u001b[39m\u001b[34m(self, function, method, *inputs, **kwargs)\u001b[39m\n\u001b[32m    624\u001b[39m \u001b[38;5;66;03m# Determine required conversion functions -- to bring the unit of the\u001b[39;00m\n\u001b[32m    625\u001b[39m \u001b[38;5;66;03m# input to that expected (e.g., radian for np.sin), or to get\u001b[39;00m\n\u001b[32m    626\u001b[39m \u001b[38;5;66;03m# consistent units between two inputs (e.g., in np.add) --\u001b[39;00m\n\u001b[32m    627\u001b[39m \u001b[38;5;66;03m# and the unit of the result (or tuple of units for nout > 1).\u001b[39;00m\n\u001b[32m    628\u001b[39m \u001b[38;5;28;01mtry\u001b[39;00m:\n\u001b[32m--> \u001b[39m\u001b[32m629\u001b[39m     converters, unit = converters_and_unit(function, method, *inputs)\n\u001b[32m    631\u001b[39m     out = kwargs.get(\u001b[33m\"\u001b[39m\u001b[33mout\u001b[39m\u001b[33m\"\u001b[39m)\n\u001b[32m    632\u001b[39m     \u001b[38;5;66;03m# Avoid loop back by turning any Quantity output into array views.\u001b[39;00m\n",
      "\u001b[36mFile \u001b[39m\u001b[32m~\\AppData\\Local\\anaconda3\\envs\\jupyterlab\\Lib\\site-packages\\astropy\\units\\quantity_helper\\converters.py:177\u001b[39m, in \u001b[36mconverters_and_unit\u001b[39m\u001b[34m(function, method, *args)\u001b[39m\n\u001b[32m    174\u001b[39m units = [\u001b[38;5;28mgetattr\u001b[39m(arg, \u001b[33m\"\u001b[39m\u001b[33munit\u001b[39m\u001b[33m\"\u001b[39m, \u001b[38;5;28;01mNone\u001b[39;00m) \u001b[38;5;28;01mfor\u001b[39;00m arg \u001b[38;5;129;01min\u001b[39;00m args]\n\u001b[32m    176\u001b[39m \u001b[38;5;66;03m# Determine possible conversion functions, and the result unit.\u001b[39;00m\n\u001b[32m--> \u001b[39m\u001b[32m177\u001b[39m converters, result_unit = ufunc_helper(function, *units)\n\u001b[32m    179\u001b[39m \u001b[38;5;28;01mif\u001b[39;00m \u001b[38;5;28many\u001b[39m(converter \u001b[38;5;129;01mis\u001b[39;00m \u001b[38;5;28;01mFalse\u001b[39;00m \u001b[38;5;28;01mfor\u001b[39;00m converter \u001b[38;5;129;01min\u001b[39;00m converters):\n\u001b[32m    180\u001b[39m     \u001b[38;5;66;03m# for multi-argument ufuncs with a quantity and a non-quantity,\u001b[39;00m\n\u001b[32m    181\u001b[39m     \u001b[38;5;66;03m# the quantity normally needs to be dimensionless, *except*\u001b[39;00m\n\u001b[32m   (...)\u001b[39m\u001b[32m    184\u001b[39m     \u001b[38;5;66;03m# can just have the unit of the quantity\u001b[39;00m\n\u001b[32m    185\u001b[39m     \u001b[38;5;66;03m# (this allows, e.g., `q > 0.` independent of unit)\u001b[39;00m\n\u001b[32m    186\u001b[39m     \u001b[38;5;28;01mtry\u001b[39;00m:\n\u001b[32m    187\u001b[39m         \u001b[38;5;66;03m# Don't fold this loop in the test above: this rare case\u001b[39;00m\n\u001b[32m    188\u001b[39m         \u001b[38;5;66;03m# should not make the common case slower.\u001b[39;00m\n",
      "\u001b[36mFile \u001b[39m\u001b[32m~\\AppData\\Local\\anaconda3\\envs\\jupyterlab\\Lib\\site-packages\\astropy\\units\\quantity_helper\\helpers.py:167\u001b[39m, in \u001b[36mhelper_dimensionless_to_dimensionless\u001b[39m\u001b[34m(f, unit)\u001b[39m\n\u001b[32m    165\u001b[39m     \u001b[38;5;28;01mreturn\u001b[39;00m ([get_converter(unit, dimensionless_unscaled)], dimensionless_unscaled)\n\u001b[32m    166\u001b[39m \u001b[38;5;28;01mexcept\u001b[39;00m UnitsError:\n\u001b[32m--> \u001b[39m\u001b[32m167\u001b[39m     \u001b[38;5;28;01mraise\u001b[39;00m UnitTypeError(\n\u001b[32m    168\u001b[39m         \u001b[33mf\u001b[39m\u001b[33m\"\u001b[39m\u001b[33mCan only apply \u001b[39m\u001b[33m'\u001b[39m\u001b[38;5;132;01m{\u001b[39;00mf.\u001b[34m__name__\u001b[39m\u001b[38;5;132;01m}\u001b[39;00m\u001b[33m'\u001b[39m\u001b[33m function to dimensionless quantities\u001b[39m\u001b[33m\"\u001b[39m\n\u001b[32m    169\u001b[39m     )\n",
      "\u001b[31mUnitTypeError\u001b[39m: Can only apply 'exp' function to dimensionless quantities"
     ]
    }
   ],
   "source": [
    "h(2*u.m**-3)"
   ]
  },
  {
   "cell_type": "code",
   "execution_count": 40,
   "id": "5e0da7d2",
   "metadata": {},
   "outputs": [
    {
     "ename": "TypeError",
     "evalue": "'Quantity' object with a scalar value is not iterable",
     "output_type": "error",
     "traceback": [
      "\u001b[31m---------------------------------------------------------------------------\u001b[39m",
      "\u001b[31mTypeError\u001b[39m                                 Traceback (most recent call last)",
      "\u001b[36mCell\u001b[39m\u001b[36m \u001b[39m\u001b[32mIn[40]\u001b[39m\u001b[32m, line 1\u001b[39m\n\u001b[32m----> \u001b[39m\u001b[32m1\u001b[39m interact(h,a=\u001b[32m2\u001b[39m*u.m**-\u001b[32m3\u001b[39m)\n",
      "\u001b[36mFile \u001b[39m\u001b[32m~\\AppData\\Local\\anaconda3\\envs\\jupyterlab\\Lib\\site-packages\\ipywidgets\\widgets\\interaction.py:536\u001b[39m, in \u001b[36m_InteractFactory.__call__\u001b[39m\u001b[34m(self, _InteractFactory__interact_f, **kwargs)\u001b[39m\n\u001b[32m    528\u001b[39m     \u001b[38;5;28;01mreturn\u001b[39;00m \u001b[38;5;28mself\u001b[39m\n\u001b[32m    530\u001b[39m \u001b[38;5;66;03m# positional arg support in: https://gist.github.com/8851331\u001b[39;00m\n\u001b[32m    531\u001b[39m \u001b[38;5;66;03m# Handle the cases 1 and 2\u001b[39;00m\n\u001b[32m    532\u001b[39m \u001b[38;5;66;03m# 1. interact(f, **kwargs)\u001b[39;00m\n\u001b[32m    533\u001b[39m \u001b[38;5;66;03m# 2. @interact\u001b[39;00m\n\u001b[32m    534\u001b[39m \u001b[38;5;66;03m#    def f(*args, **kwargs):\u001b[39;00m\n\u001b[32m    535\u001b[39m \u001b[38;5;66;03m#        ...\u001b[39;00m\n\u001b[32m--> \u001b[39m\u001b[32m536\u001b[39m w = \u001b[38;5;28mself\u001b[39m.widget(f)\n\u001b[32m    537\u001b[39m \u001b[38;5;28;01mtry\u001b[39;00m:\n\u001b[32m    538\u001b[39m     f.widget = w\n",
      "\u001b[36mFile \u001b[39m\u001b[32m~\\AppData\\Local\\anaconda3\\envs\\jupyterlab\\Lib\\site-packages\\ipywidgets\\widgets\\interaction.py:452\u001b[39m, in \u001b[36m_InteractFactory.widget\u001b[39m\u001b[34m(self, f)\u001b[39m\n\u001b[32m    436\u001b[39m \u001b[38;5;28;01mdef\u001b[39;00m\u001b[38;5;250m \u001b[39m\u001b[34mwidget\u001b[39m(\u001b[38;5;28mself\u001b[39m, f):\n\u001b[32m    437\u001b[39m \u001b[38;5;250m    \u001b[39m\u001b[33;03m\"\"\"\u001b[39;00m\n\u001b[32m    438\u001b[39m \u001b[33;03m    Return an interactive function widget for the given function.\u001b[39;00m\n\u001b[32m    439\u001b[39m \n\u001b[32m   (...)\u001b[39m\u001b[32m    450\u001b[39m \u001b[33;03m        The function to which the interactive widgets are tied.\u001b[39;00m\n\u001b[32m    451\u001b[39m \u001b[33;03m    \"\"\"\u001b[39;00m\n\u001b[32m--> \u001b[39m\u001b[32m452\u001b[39m     \u001b[38;5;28;01mreturn\u001b[39;00m \u001b[38;5;28mself\u001b[39m.cls(f, \u001b[38;5;28mself\u001b[39m.opts, **\u001b[38;5;28mself\u001b[39m.kwargs)\n",
      "\u001b[36mFile \u001b[39m\u001b[32m~\\AppData\\Local\\anaconda3\\envs\\jupyterlab\\Lib\\site-packages\\ipywidgets\\widgets\\interaction.py:187\u001b[39m, in \u001b[36minteractive.__init__\u001b[39m\u001b[34m(self, _interactive__interact_f, _interactive__options, **kwargs)\u001b[39m\n\u001b[32m    185\u001b[39m     getcallargs(f, **{n:v \u001b[38;5;28;01mfor\u001b[39;00m n,v,_ \u001b[38;5;129;01min\u001b[39;00m new_kwargs})\n\u001b[32m    186\u001b[39m \u001b[38;5;66;03m# Now build the widgets from the abbreviations.\u001b[39;00m\n\u001b[32m--> \u001b[39m\u001b[32m187\u001b[39m \u001b[38;5;28mself\u001b[39m.kwargs_widgets = \u001b[38;5;28mself\u001b[39m.widgets_from_abbreviations(new_kwargs)\n\u001b[32m    189\u001b[39m \u001b[38;5;66;03m# This has to be done as an assignment, not using self.children.append,\u001b[39;00m\n\u001b[32m    190\u001b[39m \u001b[38;5;66;03m# so that traitlets notices the update. We skip any objects (such as fixed) that\u001b[39;00m\n\u001b[32m    191\u001b[39m \u001b[38;5;66;03m# are not DOMWidgets.\u001b[39;00m\n\u001b[32m    192\u001b[39m c = [w \u001b[38;5;28;01mfor\u001b[39;00m w \u001b[38;5;129;01min\u001b[39;00m \u001b[38;5;28mself\u001b[39m.kwargs_widgets \u001b[38;5;28;01mif\u001b[39;00m \u001b[38;5;28misinstance\u001b[39m(w, DOMWidget)]\n",
      "\u001b[36mFile \u001b[39m\u001b[32m~\\AppData\\Local\\anaconda3\\envs\\jupyterlab\\Lib\\site-packages\\ipywidgets\\widgets\\interaction.py:286\u001b[39m, in \u001b[36minteractive.widgets_from_abbreviations\u001b[39m\u001b[34m(self, seq)\u001b[39m\n\u001b[32m    284\u001b[39m \u001b[38;5;28;01mif\u001b[39;00m \u001b[38;5;28misinstance\u001b[39m(abbrev, Widget) \u001b[38;5;129;01mand\u001b[39;00m (\u001b[38;5;129;01mnot\u001b[39;00m \u001b[38;5;28misinstance\u001b[39m(abbrev, ValueWidget)):\n\u001b[32m    285\u001b[39m     \u001b[38;5;28;01mraise\u001b[39;00m \u001b[38;5;167;01mTypeError\u001b[39;00m(\u001b[33m\"\u001b[39m\u001b[38;5;132;01m{!r}\u001b[39;00m\u001b[33m is not a ValueWidget\u001b[39m\u001b[33m\"\u001b[39m.format(abbrev))\n\u001b[32m--> \u001b[39m\u001b[32m286\u001b[39m widget = \u001b[38;5;28mself\u001b[39m.widget_from_abbrev(abbrev, default)\n\u001b[32m    287\u001b[39m \u001b[38;5;28;01mif\u001b[39;00m widget \u001b[38;5;129;01mis\u001b[39;00m \u001b[38;5;28;01mNone\u001b[39;00m:\n\u001b[32m    288\u001b[39m     \u001b[38;5;28;01mraise\u001b[39;00m \u001b[38;5;167;01mValueError\u001b[39;00m(\u001b[33m\"\u001b[39m\u001b[38;5;132;01m{!r}\u001b[39;00m\u001b[33m cannot be transformed to a widget\u001b[39m\u001b[33m\"\u001b[39m.format(abbrev))\n",
      "\u001b[36mFile \u001b[39m\u001b[32m~\\AppData\\Local\\anaconda3\\envs\\jupyterlab\\Lib\\site-packages\\ipywidgets\\widgets\\interaction.py:325\u001b[39m, in \u001b[36minteractive.widget_from_abbrev\u001b[39m\u001b[34m(cls, abbrev, default)\u001b[39m\n\u001b[32m    322\u001b[39m \u001b[38;5;66;03m# Something iterable (list, dict, generator, ...). Note that str and\u001b[39;00m\n\u001b[32m    323\u001b[39m \u001b[38;5;66;03m# tuple should be handled before, that is why we check this case last.\u001b[39;00m\n\u001b[32m    324\u001b[39m \u001b[38;5;28;01mif\u001b[39;00m \u001b[38;5;28misinstance\u001b[39m(abbrev, Iterable):\n\u001b[32m--> \u001b[39m\u001b[32m325\u001b[39m     widget = \u001b[38;5;28mcls\u001b[39m.widget_from_iterable(abbrev)\n\u001b[32m    326\u001b[39m     \u001b[38;5;28;01mif\u001b[39;00m default \u001b[38;5;129;01mis\u001b[39;00m \u001b[38;5;129;01mnot\u001b[39;00m empty:\n\u001b[32m    327\u001b[39m         \u001b[38;5;28;01mtry\u001b[39;00m:\n",
      "\u001b[36mFile \u001b[39m\u001b[32m~\\AppData\\Local\\anaconda3\\envs\\jupyterlab\\Lib\\site-packages\\ipywidgets\\widgets\\interaction.py:401\u001b[39m, in \u001b[36minteractive.widget_from_iterable\u001b[39m\u001b[34m(o)\u001b[39m\n\u001b[32m    399\u001b[39m     \u001b[38;5;28;01mreturn\u001b[39;00m Dropdown(options=\u001b[38;5;28mlist\u001b[39m(o.items()))\n\u001b[32m    400\u001b[39m \u001b[38;5;28;01melse\u001b[39;00m:\n\u001b[32m--> \u001b[39m\u001b[32m401\u001b[39m     \u001b[38;5;28;01mreturn\u001b[39;00m Dropdown(options=\u001b[38;5;28mlist\u001b[39m(o))\n",
      "\u001b[36mFile \u001b[39m\u001b[32m~\\AppData\\Local\\anaconda3\\envs\\jupyterlab\\Lib\\site-packages\\astropy\\units\\quantity.py:1263\u001b[39m, in \u001b[36mQuantity.__iter__\u001b[39m\u001b[34m(self)\u001b[39m\n\u001b[32m   1261\u001b[39m \u001b[38;5;28;01mdef\u001b[39;00m\u001b[38;5;250m \u001b[39m\u001b[34m__iter__\u001b[39m(\u001b[38;5;28mself\u001b[39m):\n\u001b[32m   1262\u001b[39m     \u001b[38;5;28;01mif\u001b[39;00m \u001b[38;5;28mself\u001b[39m.isscalar:\n\u001b[32m-> \u001b[39m\u001b[32m1263\u001b[39m         \u001b[38;5;28;01mraise\u001b[39;00m \u001b[38;5;167;01mTypeError\u001b[39;00m(\n\u001b[32m   1264\u001b[39m             \u001b[33mf\u001b[39m\u001b[33m\"\u001b[39m\u001b[33m'\u001b[39m\u001b[38;5;132;01m{\u001b[39;00m\u001b[38;5;28mself\u001b[39m.\u001b[34m__class__\u001b[39m.\u001b[34m__name__\u001b[39m\u001b[38;5;132;01m}\u001b[39;00m\u001b[33m'\u001b[39m\u001b[33m object with a scalar value is not\u001b[39m\u001b[33m\"\u001b[39m\n\u001b[32m   1265\u001b[39m             \u001b[33m\"\u001b[39m\u001b[33m iterable\u001b[39m\u001b[33m\"\u001b[39m\n\u001b[32m   1266\u001b[39m         )\n\u001b[32m   1268\u001b[39m     \u001b[38;5;66;03m# Otherwise return a generator\u001b[39;00m\n\u001b[32m   1269\u001b[39m     \u001b[38;5;28;01mdef\u001b[39;00m\u001b[38;5;250m \u001b[39m\u001b[34mquantity_iter\u001b[39m():\n",
      "\u001b[31mTypeError\u001b[39m: 'Quantity' object with a scalar value is not iterable"
     ]
    }
   ],
   "source": [
    "interact(h,a=2*u.m**-3)"
   ]
  },
  {
   "cell_type": "code",
   "execution_count": 16,
   "id": "1acb73e2",
   "metadata": {},
   "outputs": [
    {
     "data": {
      "text/latex": [
       "$1.6021766 \\times 10^{-19} \\; \\mathrm{C}$"
      ],
      "text/plain": [
       "<<class 'astropy.constants.codata2018.EMCODATA2018'> name='Electron charge' value=1.602176634e-19 uncertainty=0.0 unit='C' reference='CODATA 2018'>"
      ]
     },
     "execution_count": 16,
     "metadata": {},
     "output_type": "execute_result"
    }
   ],
   "source": [
    "constants.e"
   ]
  },
  {
   "cell_type": "code",
   "execution_count": null,
   "id": "46c7015d",
   "metadata": {},
   "outputs": [],
   "source": []
  }
 ],
 "metadata": {
  "kernelspec": {
   "display_name": "Python 3 (ipykernel)",
   "language": "python",
   "name": "python3"
  },
  "language_info": {
   "codemirror_mode": {
    "name": "ipython",
    "version": 3
   },
   "file_extension": ".py",
   "mimetype": "text/x-python",
   "name": "python",
   "nbconvert_exporter": "python",
   "pygments_lexer": "ipython3",
   "version": "3.12.3"
  }
 },
 "nbformat": 4,
 "nbformat_minor": 5
}
